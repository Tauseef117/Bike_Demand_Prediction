{
 "cells": [
  {
   "cell_type": "code",
   "execution_count": 1,
   "metadata": {},
   "outputs": [],
   "source": [
    "%config Completer.use_jedi = False"
   ]
  },
  {
   "cell_type": "code",
   "execution_count": 2,
   "metadata": {},
   "outputs": [],
   "source": [
    "import pandas as pd\n",
    "import numpy as np\n",
    "import matplotlib.pyplot as plt\n",
    "import seaborn as sns\n",
    "from datetime import datetime\n",
    "import missingno as msno "
   ]
  },
  {
   "cell_type": "code",
   "execution_count": 3,
   "metadata": {},
   "outputs": [
    {
     "data": {
      "text/html": [
       "<div>\n",
       "<style scoped>\n",
       "    .dataframe tbody tr th:only-of-type {\n",
       "        vertical-align: middle;\n",
       "    }\n",
       "\n",
       "    .dataframe tbody tr th {\n",
       "        vertical-align: top;\n",
       "    }\n",
       "\n",
       "    .dataframe thead th {\n",
       "        text-align: right;\n",
       "    }\n",
       "</style>\n",
       "<table border=\"1\" class=\"dataframe\">\n",
       "  <thead>\n",
       "    <tr style=\"text-align: right;\">\n",
       "      <th></th>\n",
       "      <th>datetime</th>\n",
       "      <th>season</th>\n",
       "      <th>holiday</th>\n",
       "      <th>workingday</th>\n",
       "      <th>weather</th>\n",
       "      <th>temp</th>\n",
       "      <th>atemp</th>\n",
       "      <th>humidity</th>\n",
       "      <th>windspeed</th>\n",
       "      <th>casual</th>\n",
       "      <th>registered</th>\n",
       "      <th>count</th>\n",
       "    </tr>\n",
       "  </thead>\n",
       "  <tbody>\n",
       "    <tr>\n",
       "      <th>0</th>\n",
       "      <td>01-01-2011 00:00</td>\n",
       "      <td>1</td>\n",
       "      <td>0</td>\n",
       "      <td>0</td>\n",
       "      <td>1</td>\n",
       "      <td>9.84</td>\n",
       "      <td>14.395</td>\n",
       "      <td>81.0</td>\n",
       "      <td>0.0000</td>\n",
       "      <td>3</td>\n",
       "      <td>13</td>\n",
       "      <td>16</td>\n",
       "    </tr>\n",
       "    <tr>\n",
       "      <th>1</th>\n",
       "      <td>01-01-2011 01:00</td>\n",
       "      <td>1</td>\n",
       "      <td>0</td>\n",
       "      <td>0</td>\n",
       "      <td>1</td>\n",
       "      <td>9.02</td>\n",
       "      <td>13.635</td>\n",
       "      <td>80.0</td>\n",
       "      <td>0.0000</td>\n",
       "      <td>8</td>\n",
       "      <td>32</td>\n",
       "      <td>40</td>\n",
       "    </tr>\n",
       "    <tr>\n",
       "      <th>2</th>\n",
       "      <td>01-01-2011 02:00</td>\n",
       "      <td>1</td>\n",
       "      <td>0</td>\n",
       "      <td>0</td>\n",
       "      <td>1</td>\n",
       "      <td>9.02</td>\n",
       "      <td>13.635</td>\n",
       "      <td>80.0</td>\n",
       "      <td>0.0000</td>\n",
       "      <td>5</td>\n",
       "      <td>27</td>\n",
       "      <td>32</td>\n",
       "    </tr>\n",
       "    <tr>\n",
       "      <th>3</th>\n",
       "      <td>01-01-2011 03:00</td>\n",
       "      <td>1</td>\n",
       "      <td>0</td>\n",
       "      <td>0</td>\n",
       "      <td>1</td>\n",
       "      <td>9.84</td>\n",
       "      <td>14.395</td>\n",
       "      <td>NaN</td>\n",
       "      <td>0.0000</td>\n",
       "      <td>3</td>\n",
       "      <td>10</td>\n",
       "      <td>13</td>\n",
       "    </tr>\n",
       "    <tr>\n",
       "      <th>4</th>\n",
       "      <td>01-01-2011 04:00</td>\n",
       "      <td>1</td>\n",
       "      <td>0</td>\n",
       "      <td>0</td>\n",
       "      <td>1</td>\n",
       "      <td>9.84</td>\n",
       "      <td>14.395</td>\n",
       "      <td>75.0</td>\n",
       "      <td>0.0000</td>\n",
       "      <td>0</td>\n",
       "      <td>1</td>\n",
       "      <td>1</td>\n",
       "    </tr>\n",
       "    <tr>\n",
       "      <th>5</th>\n",
       "      <td>01-01-2011 05:00</td>\n",
       "      <td>1</td>\n",
       "      <td>0</td>\n",
       "      <td>0</td>\n",
       "      <td>2</td>\n",
       "      <td>9.84</td>\n",
       "      <td>12.880</td>\n",
       "      <td>75.0</td>\n",
       "      <td>6.0032</td>\n",
       "      <td>0</td>\n",
       "      <td>1</td>\n",
       "      <td>1</td>\n",
       "    </tr>\n",
       "    <tr>\n",
       "      <th>6</th>\n",
       "      <td>01-01-2011 06:00</td>\n",
       "      <td>1</td>\n",
       "      <td>0</td>\n",
       "      <td>0</td>\n",
       "      <td>1</td>\n",
       "      <td>9.02</td>\n",
       "      <td>13.635</td>\n",
       "      <td>80.0</td>\n",
       "      <td>0.0000</td>\n",
       "      <td>2</td>\n",
       "      <td>0</td>\n",
       "      <td>2</td>\n",
       "    </tr>\n",
       "    <tr>\n",
       "      <th>7</th>\n",
       "      <td>01-01-2011 07:00</td>\n",
       "      <td>1</td>\n",
       "      <td>0</td>\n",
       "      <td>0</td>\n",
       "      <td>1</td>\n",
       "      <td>8.20</td>\n",
       "      <td>12.880</td>\n",
       "      <td>NaN</td>\n",
       "      <td>0.0000</td>\n",
       "      <td>1</td>\n",
       "      <td>2</td>\n",
       "      <td>3</td>\n",
       "    </tr>\n",
       "    <tr>\n",
       "      <th>8</th>\n",
       "      <td>01-01-2011 08:00</td>\n",
       "      <td>1</td>\n",
       "      <td>0</td>\n",
       "      <td>0</td>\n",
       "      <td>1</td>\n",
       "      <td>9.84</td>\n",
       "      <td>14.395</td>\n",
       "      <td>75.0</td>\n",
       "      <td>0.0000</td>\n",
       "      <td>1</td>\n",
       "      <td>7</td>\n",
       "      <td>8</td>\n",
       "    </tr>\n",
       "    <tr>\n",
       "      <th>9</th>\n",
       "      <td>01-01-2011 09:00</td>\n",
       "      <td>1</td>\n",
       "      <td>0</td>\n",
       "      <td>0</td>\n",
       "      <td>1</td>\n",
       "      <td>13.12</td>\n",
       "      <td>17.425</td>\n",
       "      <td>76.0</td>\n",
       "      <td>0.0000</td>\n",
       "      <td>8</td>\n",
       "      <td>6</td>\n",
       "      <td>14</td>\n",
       "    </tr>\n",
       "  </tbody>\n",
       "</table>\n",
       "</div>"
      ],
      "text/plain": [
       "           datetime  season  holiday  workingday  weather   temp   atemp  \\\n",
       "0  01-01-2011 00:00       1        0           0        1   9.84  14.395   \n",
       "1  01-01-2011 01:00       1        0           0        1   9.02  13.635   \n",
       "2  01-01-2011 02:00       1        0           0        1   9.02  13.635   \n",
       "3  01-01-2011 03:00       1        0           0        1   9.84  14.395   \n",
       "4  01-01-2011 04:00       1        0           0        1   9.84  14.395   \n",
       "5  01-01-2011 05:00       1        0           0        2   9.84  12.880   \n",
       "6  01-01-2011 06:00       1        0           0        1   9.02  13.635   \n",
       "7  01-01-2011 07:00       1        0           0        1   8.20  12.880   \n",
       "8  01-01-2011 08:00       1        0           0        1   9.84  14.395   \n",
       "9  01-01-2011 09:00       1        0           0        1  13.12  17.425   \n",
       "\n",
       "   humidity  windspeed  casual  registered  count  \n",
       "0      81.0     0.0000       3          13     16  \n",
       "1      80.0     0.0000       8          32     40  \n",
       "2      80.0     0.0000       5          27     32  \n",
       "3       NaN     0.0000       3          10     13  \n",
       "4      75.0     0.0000       0           1      1  \n",
       "5      75.0     6.0032       0           1      1  \n",
       "6      80.0     0.0000       2           0      2  \n",
       "7       NaN     0.0000       1           2      3  \n",
       "8      75.0     0.0000       1           7      8  \n",
       "9      76.0     0.0000       8           6     14  "
      ]
     },
     "execution_count": 3,
     "metadata": {},
     "output_type": "execute_result"
    }
   ],
   "source": [
    "df = pd.read_csv(\"Bike_use.csv\")\n",
    "df.head(10)"
   ]
  },
  {
   "cell_type": "code",
   "execution_count": 4,
   "metadata": {},
   "outputs": [
    {
     "data": {
      "text/plain": [
       "(10886, 12)"
      ]
     },
     "execution_count": 4,
     "metadata": {},
     "output_type": "execute_result"
    }
   ],
   "source": [
    "df.shape"
   ]
  },
  {
   "cell_type": "markdown",
   "metadata": {},
   "source": [
    "## Data Pre-Processing"
   ]
  },
  {
   "cell_type": "markdown",
   "metadata": {},
   "source": [
    "### Finding Missing Values"
   ]
  },
  {
   "cell_type": "code",
   "execution_count": 5,
   "metadata": {},
   "outputs": [
    {
     "data": {
      "text/html": [
       "<div>\n",
       "<style scoped>\n",
       "    .dataframe tbody tr th:only-of-type {\n",
       "        vertical-align: middle;\n",
       "    }\n",
       "\n",
       "    .dataframe tbody tr th {\n",
       "        vertical-align: top;\n",
       "    }\n",
       "\n",
       "    .dataframe thead th {\n",
       "        text-align: right;\n",
       "    }\n",
       "</style>\n",
       "<table border=\"1\" class=\"dataframe\">\n",
       "  <thead>\n",
       "    <tr style=\"text-align: right;\">\n",
       "      <th></th>\n",
       "      <th>datetime</th>\n",
       "      <th>season</th>\n",
       "      <th>holiday</th>\n",
       "      <th>workingday</th>\n",
       "      <th>weather</th>\n",
       "      <th>temp</th>\n",
       "      <th>atemp</th>\n",
       "      <th>humidity</th>\n",
       "      <th>windspeed</th>\n",
       "      <th>casual</th>\n",
       "      <th>registered</th>\n",
       "      <th>count</th>\n",
       "    </tr>\n",
       "  </thead>\n",
       "  <tbody>\n",
       "    <tr>\n",
       "      <th>0</th>\n",
       "      <td>False</td>\n",
       "      <td>False</td>\n",
       "      <td>False</td>\n",
       "      <td>False</td>\n",
       "      <td>False</td>\n",
       "      <td>False</td>\n",
       "      <td>False</td>\n",
       "      <td>False</td>\n",
       "      <td>False</td>\n",
       "      <td>False</td>\n",
       "      <td>False</td>\n",
       "      <td>False</td>\n",
       "    </tr>\n",
       "    <tr>\n",
       "      <th>1</th>\n",
       "      <td>False</td>\n",
       "      <td>False</td>\n",
       "      <td>False</td>\n",
       "      <td>False</td>\n",
       "      <td>False</td>\n",
       "      <td>False</td>\n",
       "      <td>False</td>\n",
       "      <td>False</td>\n",
       "      <td>False</td>\n",
       "      <td>False</td>\n",
       "      <td>False</td>\n",
       "      <td>False</td>\n",
       "    </tr>\n",
       "    <tr>\n",
       "      <th>2</th>\n",
       "      <td>False</td>\n",
       "      <td>False</td>\n",
       "      <td>False</td>\n",
       "      <td>False</td>\n",
       "      <td>False</td>\n",
       "      <td>False</td>\n",
       "      <td>False</td>\n",
       "      <td>False</td>\n",
       "      <td>False</td>\n",
       "      <td>False</td>\n",
       "      <td>False</td>\n",
       "      <td>False</td>\n",
       "    </tr>\n",
       "    <tr>\n",
       "      <th>3</th>\n",
       "      <td>False</td>\n",
       "      <td>False</td>\n",
       "      <td>False</td>\n",
       "      <td>False</td>\n",
       "      <td>False</td>\n",
       "      <td>False</td>\n",
       "      <td>False</td>\n",
       "      <td>True</td>\n",
       "      <td>False</td>\n",
       "      <td>False</td>\n",
       "      <td>False</td>\n",
       "      <td>False</td>\n",
       "    </tr>\n",
       "    <tr>\n",
       "      <th>4</th>\n",
       "      <td>False</td>\n",
       "      <td>False</td>\n",
       "      <td>False</td>\n",
       "      <td>False</td>\n",
       "      <td>False</td>\n",
       "      <td>False</td>\n",
       "      <td>False</td>\n",
       "      <td>False</td>\n",
       "      <td>False</td>\n",
       "      <td>False</td>\n",
       "      <td>False</td>\n",
       "      <td>False</td>\n",
       "    </tr>\n",
       "    <tr>\n",
       "      <th>5</th>\n",
       "      <td>False</td>\n",
       "      <td>False</td>\n",
       "      <td>False</td>\n",
       "      <td>False</td>\n",
       "      <td>False</td>\n",
       "      <td>False</td>\n",
       "      <td>False</td>\n",
       "      <td>False</td>\n",
       "      <td>False</td>\n",
       "      <td>False</td>\n",
       "      <td>False</td>\n",
       "      <td>False</td>\n",
       "    </tr>\n",
       "    <tr>\n",
       "      <th>6</th>\n",
       "      <td>False</td>\n",
       "      <td>False</td>\n",
       "      <td>False</td>\n",
       "      <td>False</td>\n",
       "      <td>False</td>\n",
       "      <td>False</td>\n",
       "      <td>False</td>\n",
       "      <td>False</td>\n",
       "      <td>False</td>\n",
       "      <td>False</td>\n",
       "      <td>False</td>\n",
       "      <td>False</td>\n",
       "    </tr>\n",
       "    <tr>\n",
       "      <th>7</th>\n",
       "      <td>False</td>\n",
       "      <td>False</td>\n",
       "      <td>False</td>\n",
       "      <td>False</td>\n",
       "      <td>False</td>\n",
       "      <td>False</td>\n",
       "      <td>False</td>\n",
       "      <td>True</td>\n",
       "      <td>False</td>\n",
       "      <td>False</td>\n",
       "      <td>False</td>\n",
       "      <td>False</td>\n",
       "    </tr>\n",
       "    <tr>\n",
       "      <th>8</th>\n",
       "      <td>False</td>\n",
       "      <td>False</td>\n",
       "      <td>False</td>\n",
       "      <td>False</td>\n",
       "      <td>False</td>\n",
       "      <td>False</td>\n",
       "      <td>False</td>\n",
       "      <td>False</td>\n",
       "      <td>False</td>\n",
       "      <td>False</td>\n",
       "      <td>False</td>\n",
       "      <td>False</td>\n",
       "    </tr>\n",
       "    <tr>\n",
       "      <th>9</th>\n",
       "      <td>False</td>\n",
       "      <td>False</td>\n",
       "      <td>False</td>\n",
       "      <td>False</td>\n",
       "      <td>False</td>\n",
       "      <td>False</td>\n",
       "      <td>False</td>\n",
       "      <td>False</td>\n",
       "      <td>False</td>\n",
       "      <td>False</td>\n",
       "      <td>False</td>\n",
       "      <td>False</td>\n",
       "    </tr>\n",
       "  </tbody>\n",
       "</table>\n",
       "</div>"
      ],
      "text/plain": [
       "   datetime  season  holiday  workingday  weather   temp  atemp  humidity  \\\n",
       "0     False   False    False       False    False  False  False     False   \n",
       "1     False   False    False       False    False  False  False     False   \n",
       "2     False   False    False       False    False  False  False     False   \n",
       "3     False   False    False       False    False  False  False      True   \n",
       "4     False   False    False       False    False  False  False     False   \n",
       "5     False   False    False       False    False  False  False     False   \n",
       "6     False   False    False       False    False  False  False     False   \n",
       "7     False   False    False       False    False  False  False      True   \n",
       "8     False   False    False       False    False  False  False     False   \n",
       "9     False   False    False       False    False  False  False     False   \n",
       "\n",
       "   windspeed  casual  registered  count  \n",
       "0      False   False       False  False  \n",
       "1      False   False       False  False  \n",
       "2      False   False       False  False  \n",
       "3      False   False       False  False  \n",
       "4      False   False       False  False  \n",
       "5      False   False       False  False  \n",
       "6      False   False       False  False  \n",
       "7      False   False       False  False  \n",
       "8      False   False       False  False  \n",
       "9      False   False       False  False  "
      ]
     },
     "execution_count": 5,
     "metadata": {},
     "output_type": "execute_result"
    }
   ],
   "source": [
    "missing_data = df.isnull()\n",
    "missing_data.head(10)"
   ]
  },
  {
   "cell_type": "markdown",
   "metadata": {},
   "source": [
    "### Count Missing Values"
   ]
  },
  {
   "cell_type": "code",
   "execution_count": 6,
   "metadata": {},
   "outputs": [
    {
     "name": "stdout",
     "output_type": "stream",
     "text": [
      "datetime\n",
      "False    10886\n",
      "Name: datetime, dtype: int64\n",
      "\n",
      "season\n",
      "False    10886\n",
      "Name: season, dtype: int64\n",
      "\n",
      "holiday\n",
      "False    10886\n",
      "Name: holiday, dtype: int64\n",
      "\n",
      "workingday\n",
      "False    10886\n",
      "Name: workingday, dtype: int64\n",
      "\n",
      "weather\n",
      "False    10886\n",
      "Name: weather, dtype: int64\n",
      "\n",
      "temp\n",
      "False    10886\n",
      "Name: temp, dtype: int64\n",
      "\n",
      "atemp\n",
      "False    10886\n",
      "Name: atemp, dtype: int64\n",
      "\n",
      "humidity\n",
      "False    10880\n",
      "True         6\n",
      "Name: humidity, dtype: int64\n",
      "\n",
      "windspeed\n",
      "False    10886\n",
      "Name: windspeed, dtype: int64\n",
      "\n",
      "casual\n",
      "False    10886\n",
      "Name: casual, dtype: int64\n",
      "\n",
      "registered\n",
      "False    10886\n",
      "Name: registered, dtype: int64\n",
      "\n",
      "count\n",
      "False    10886\n",
      "Name: count, dtype: int64\n",
      "\n"
     ]
    }
   ],
   "source": [
    "for column in missing_data.columns.values.tolist():\n",
    "    print(column)\n",
    "    print (missing_data[column].value_counts())\n",
    "    print(\"\")  "
   ]
  },
  {
   "cell_type": "markdown",
   "metadata": {},
   "source": [
    "### Replacing Missing Values"
   ]
  },
  {
   "cell_type": "code",
   "execution_count": 7,
   "metadata": {},
   "outputs": [
    {
     "name": "stdout",
     "output_type": "stream",
     "text": [
      "Average Humidity: 61.87950367647059\n"
     ]
    }
   ],
   "source": [
    "avg_humidity = df[\"humidity\"].astype(\"float\").mean(axis=0)\n",
    "print(\"Average Humidity:\", avg_humidity)"
   ]
  },
  {
   "cell_type": "code",
   "execution_count": 8,
   "metadata": {},
   "outputs": [],
   "source": [
    "df[\"humidity\"].replace(np.nan, avg_humidity, inplace=True)"
   ]
  },
  {
   "cell_type": "code",
   "execution_count": 9,
   "metadata": {},
   "outputs": [
    {
     "data": {
      "text/html": [
       "<div>\n",
       "<style scoped>\n",
       "    .dataframe tbody tr th:only-of-type {\n",
       "        vertical-align: middle;\n",
       "    }\n",
       "\n",
       "    .dataframe tbody tr th {\n",
       "        vertical-align: top;\n",
       "    }\n",
       "\n",
       "    .dataframe thead th {\n",
       "        text-align: right;\n",
       "    }\n",
       "</style>\n",
       "<table border=\"1\" class=\"dataframe\">\n",
       "  <thead>\n",
       "    <tr style=\"text-align: right;\">\n",
       "      <th></th>\n",
       "      <th>datetime</th>\n",
       "      <th>season</th>\n",
       "      <th>holiday</th>\n",
       "      <th>workingday</th>\n",
       "      <th>weather</th>\n",
       "      <th>temp</th>\n",
       "      <th>atemp</th>\n",
       "      <th>humidity</th>\n",
       "      <th>windspeed</th>\n",
       "      <th>casual</th>\n",
       "      <th>registered</th>\n",
       "      <th>count</th>\n",
       "    </tr>\n",
       "  </thead>\n",
       "  <tbody>\n",
       "    <tr>\n",
       "      <th>0</th>\n",
       "      <td>01-01-2011 00:00</td>\n",
       "      <td>1</td>\n",
       "      <td>0</td>\n",
       "      <td>0</td>\n",
       "      <td>1</td>\n",
       "      <td>9.84</td>\n",
       "      <td>14.395</td>\n",
       "      <td>81.000000</td>\n",
       "      <td>0.0000</td>\n",
       "      <td>3</td>\n",
       "      <td>13</td>\n",
       "      <td>16</td>\n",
       "    </tr>\n",
       "    <tr>\n",
       "      <th>1</th>\n",
       "      <td>01-01-2011 01:00</td>\n",
       "      <td>1</td>\n",
       "      <td>0</td>\n",
       "      <td>0</td>\n",
       "      <td>1</td>\n",
       "      <td>9.02</td>\n",
       "      <td>13.635</td>\n",
       "      <td>80.000000</td>\n",
       "      <td>0.0000</td>\n",
       "      <td>8</td>\n",
       "      <td>32</td>\n",
       "      <td>40</td>\n",
       "    </tr>\n",
       "    <tr>\n",
       "      <th>2</th>\n",
       "      <td>01-01-2011 02:00</td>\n",
       "      <td>1</td>\n",
       "      <td>0</td>\n",
       "      <td>0</td>\n",
       "      <td>1</td>\n",
       "      <td>9.02</td>\n",
       "      <td>13.635</td>\n",
       "      <td>80.000000</td>\n",
       "      <td>0.0000</td>\n",
       "      <td>5</td>\n",
       "      <td>27</td>\n",
       "      <td>32</td>\n",
       "    </tr>\n",
       "    <tr>\n",
       "      <th>3</th>\n",
       "      <td>01-01-2011 03:00</td>\n",
       "      <td>1</td>\n",
       "      <td>0</td>\n",
       "      <td>0</td>\n",
       "      <td>1</td>\n",
       "      <td>9.84</td>\n",
       "      <td>14.395</td>\n",
       "      <td>61.879504</td>\n",
       "      <td>0.0000</td>\n",
       "      <td>3</td>\n",
       "      <td>10</td>\n",
       "      <td>13</td>\n",
       "    </tr>\n",
       "    <tr>\n",
       "      <th>4</th>\n",
       "      <td>01-01-2011 04:00</td>\n",
       "      <td>1</td>\n",
       "      <td>0</td>\n",
       "      <td>0</td>\n",
       "      <td>1</td>\n",
       "      <td>9.84</td>\n",
       "      <td>14.395</td>\n",
       "      <td>75.000000</td>\n",
       "      <td>0.0000</td>\n",
       "      <td>0</td>\n",
       "      <td>1</td>\n",
       "      <td>1</td>\n",
       "    </tr>\n",
       "    <tr>\n",
       "      <th>5</th>\n",
       "      <td>01-01-2011 05:00</td>\n",
       "      <td>1</td>\n",
       "      <td>0</td>\n",
       "      <td>0</td>\n",
       "      <td>2</td>\n",
       "      <td>9.84</td>\n",
       "      <td>12.880</td>\n",
       "      <td>75.000000</td>\n",
       "      <td>6.0032</td>\n",
       "      <td>0</td>\n",
       "      <td>1</td>\n",
       "      <td>1</td>\n",
       "    </tr>\n",
       "    <tr>\n",
       "      <th>6</th>\n",
       "      <td>01-01-2011 06:00</td>\n",
       "      <td>1</td>\n",
       "      <td>0</td>\n",
       "      <td>0</td>\n",
       "      <td>1</td>\n",
       "      <td>9.02</td>\n",
       "      <td>13.635</td>\n",
       "      <td>80.000000</td>\n",
       "      <td>0.0000</td>\n",
       "      <td>2</td>\n",
       "      <td>0</td>\n",
       "      <td>2</td>\n",
       "    </tr>\n",
       "    <tr>\n",
       "      <th>7</th>\n",
       "      <td>01-01-2011 07:00</td>\n",
       "      <td>1</td>\n",
       "      <td>0</td>\n",
       "      <td>0</td>\n",
       "      <td>1</td>\n",
       "      <td>8.20</td>\n",
       "      <td>12.880</td>\n",
       "      <td>61.879504</td>\n",
       "      <td>0.0000</td>\n",
       "      <td>1</td>\n",
       "      <td>2</td>\n",
       "      <td>3</td>\n",
       "    </tr>\n",
       "    <tr>\n",
       "      <th>8</th>\n",
       "      <td>01-01-2011 08:00</td>\n",
       "      <td>1</td>\n",
       "      <td>0</td>\n",
       "      <td>0</td>\n",
       "      <td>1</td>\n",
       "      <td>9.84</td>\n",
       "      <td>14.395</td>\n",
       "      <td>75.000000</td>\n",
       "      <td>0.0000</td>\n",
       "      <td>1</td>\n",
       "      <td>7</td>\n",
       "      <td>8</td>\n",
       "    </tr>\n",
       "    <tr>\n",
       "      <th>9</th>\n",
       "      <td>01-01-2011 09:00</td>\n",
       "      <td>1</td>\n",
       "      <td>0</td>\n",
       "      <td>0</td>\n",
       "      <td>1</td>\n",
       "      <td>13.12</td>\n",
       "      <td>17.425</td>\n",
       "      <td>76.000000</td>\n",
       "      <td>0.0000</td>\n",
       "      <td>8</td>\n",
       "      <td>6</td>\n",
       "      <td>14</td>\n",
       "    </tr>\n",
       "  </tbody>\n",
       "</table>\n",
       "</div>"
      ],
      "text/plain": [
       "           datetime  season  holiday  workingday  weather   temp   atemp  \\\n",
       "0  01-01-2011 00:00       1        0           0        1   9.84  14.395   \n",
       "1  01-01-2011 01:00       1        0           0        1   9.02  13.635   \n",
       "2  01-01-2011 02:00       1        0           0        1   9.02  13.635   \n",
       "3  01-01-2011 03:00       1        0           0        1   9.84  14.395   \n",
       "4  01-01-2011 04:00       1        0           0        1   9.84  14.395   \n",
       "5  01-01-2011 05:00       1        0           0        2   9.84  12.880   \n",
       "6  01-01-2011 06:00       1        0           0        1   9.02  13.635   \n",
       "7  01-01-2011 07:00       1        0           0        1   8.20  12.880   \n",
       "8  01-01-2011 08:00       1        0           0        1   9.84  14.395   \n",
       "9  01-01-2011 09:00       1        0           0        1  13.12  17.425   \n",
       "\n",
       "    humidity  windspeed  casual  registered  count  \n",
       "0  81.000000     0.0000       3          13     16  \n",
       "1  80.000000     0.0000       8          32     40  \n",
       "2  80.000000     0.0000       5          27     32  \n",
       "3  61.879504     0.0000       3          10     13  \n",
       "4  75.000000     0.0000       0           1      1  \n",
       "5  75.000000     6.0032       0           1      1  \n",
       "6  80.000000     0.0000       2           0      2  \n",
       "7  61.879504     0.0000       1           2      3  \n",
       "8  75.000000     0.0000       1           7      8  \n",
       "9  76.000000     0.0000       8           6     14  "
      ]
     },
     "execution_count": 9,
     "metadata": {},
     "output_type": "execute_result"
    }
   ],
   "source": [
    "df.head(10)"
   ]
  },
  {
   "cell_type": "markdown",
   "metadata": {},
   "source": [
    "### Check if Missing values exist"
   ]
  },
  {
   "cell_type": "code",
   "execution_count": 10,
   "metadata": {},
   "outputs": [
    {
     "data": {
      "text/plain": [
       "<AxesSubplot:>"
      ]
     },
     "execution_count": 10,
     "metadata": {},
     "output_type": "execute_result"
    },
    {
     "data": {
      "image/png": "[encoded data removed]",
      "text/plain": [
       "<Figure size 1800x720 with 2 Axes>"
      ]
     },
     "metadata": {
      "needs_background": "light"
     },
     "output_type": "display_data"
    }
   ],
   "source": [
    "msno.matrix(df)"
   ]
  },
  {
   "cell_type": "markdown",
   "metadata": {},
   "source": [
    "### Check Datatypes "
   ]
  },
  {
   "cell_type": "code",
   "execution_count": 11,
   "metadata": {},
   "outputs": [
    {
     "data": {
      "text/plain": [
       "datetime       object\n",
       "season          int64\n",
       "holiday         int64\n",
       "workingday      int64\n",
       "weather         int64\n",
       "temp          float64\n",
       "atemp         float64\n",
       "humidity      float64\n",
       "windspeed     float64\n",
       "casual          int64\n",
       "registered      int64\n",
       "count           int64\n",
       "dtype: object"
      ]
     },
     "execution_count": 11,
     "metadata": {},
     "output_type": "execute_result"
    }
   ],
   "source": [
    "df.dtypes"
   ]
  },
  {
   "cell_type": "code",
   "execution_count": null,
   "metadata": {},
   "outputs": [],
   "source": []
  },
  {
   "cell_type": "code",
   "execution_count": 12,
   "metadata": {},
   "outputs": [
    {
     "data": {
      "text/html": [
       "<div>\n",
       "<style scoped>\n",
       "    .dataframe tbody tr th:only-of-type {\n",
       "        vertical-align: middle;\n",
       "    }\n",
       "\n",
       "    .dataframe tbody tr th {\n",
       "        vertical-align: top;\n",
       "    }\n",
       "\n",
       "    .dataframe thead th {\n",
       "        text-align: right;\n",
       "    }\n",
       "</style>\n",
       "<table border=\"1\" class=\"dataframe\">\n",
       "  <thead>\n",
       "    <tr style=\"text-align: right;\">\n",
       "      <th></th>\n",
       "      <th>season</th>\n",
       "      <th>holiday</th>\n",
       "      <th>workingday</th>\n",
       "      <th>weather</th>\n",
       "      <th>temp</th>\n",
       "      <th>atemp</th>\n",
       "      <th>humidity</th>\n",
       "      <th>windspeed</th>\n",
       "      <th>casual</th>\n",
       "      <th>registered</th>\n",
       "      <th>count</th>\n",
       "    </tr>\n",
       "  </thead>\n",
       "  <tbody>\n",
       "    <tr>\n",
       "      <th>count</th>\n",
       "      <td>10886.000000</td>\n",
       "      <td>10886.000000</td>\n",
       "      <td>10886.000000</td>\n",
       "      <td>10886.000000</td>\n",
       "      <td>10886.00000</td>\n",
       "      <td>10886.000000</td>\n",
       "      <td>10886.000000</td>\n",
       "      <td>10886.000000</td>\n",
       "      <td>10886.000000</td>\n",
       "      <td>10886.000000</td>\n",
       "      <td>10886.000000</td>\n",
       "    </tr>\n",
       "    <tr>\n",
       "      <th>mean</th>\n",
       "      <td>2.506614</td>\n",
       "      <td>0.028569</td>\n",
       "      <td>0.680875</td>\n",
       "      <td>1.418427</td>\n",
       "      <td>20.23086</td>\n",
       "      <td>23.655084</td>\n",
       "      <td>61.879504</td>\n",
       "      <td>12.799395</td>\n",
       "      <td>36.021955</td>\n",
       "      <td>155.552177</td>\n",
       "      <td>191.574132</td>\n",
       "    </tr>\n",
       "    <tr>\n",
       "      <th>std</th>\n",
       "      <td>1.116174</td>\n",
       "      <td>0.166599</td>\n",
       "      <td>0.466159</td>\n",
       "      <td>0.633839</td>\n",
       "      <td>7.79159</td>\n",
       "      <td>8.474601</td>\n",
       "      <td>19.238558</td>\n",
       "      <td>8.164537</td>\n",
       "      <td>49.960477</td>\n",
       "      <td>151.039033</td>\n",
       "      <td>181.144454</td>\n",
       "    </tr>\n",
       "    <tr>\n",
       "      <th>min</th>\n",
       "      <td>1.000000</td>\n",
       "      <td>0.000000</td>\n",
       "      <td>0.000000</td>\n",
       "      <td>1.000000</td>\n",
       "      <td>0.82000</td>\n",
       "      <td>0.760000</td>\n",
       "      <td>0.000000</td>\n",
       "      <td>0.000000</td>\n",
       "      <td>0.000000</td>\n",
       "      <td>0.000000</td>\n",
       "      <td>1.000000</td>\n",
       "    </tr>\n",
       "    <tr>\n",
       "      <th>25%</th>\n",
       "      <td>2.000000</td>\n",
       "      <td>0.000000</td>\n",
       "      <td>0.000000</td>\n",
       "      <td>1.000000</td>\n",
       "      <td>13.94000</td>\n",
       "      <td>16.665000</td>\n",
       "      <td>47.000000</td>\n",
       "      <td>7.001500</td>\n",
       "      <td>4.000000</td>\n",
       "      <td>36.000000</td>\n",
       "      <td>42.000000</td>\n",
       "    </tr>\n",
       "    <tr>\n",
       "      <th>50%</th>\n",
       "      <td>3.000000</td>\n",
       "      <td>0.000000</td>\n",
       "      <td>1.000000</td>\n",
       "      <td>1.000000</td>\n",
       "      <td>20.50000</td>\n",
       "      <td>24.240000</td>\n",
       "      <td>62.000000</td>\n",
       "      <td>12.998000</td>\n",
       "      <td>17.000000</td>\n",
       "      <td>118.000000</td>\n",
       "      <td>145.000000</td>\n",
       "    </tr>\n",
       "    <tr>\n",
       "      <th>75%</th>\n",
       "      <td>4.000000</td>\n",
       "      <td>0.000000</td>\n",
       "      <td>1.000000</td>\n",
       "      <td>2.000000</td>\n",
       "      <td>26.24000</td>\n",
       "      <td>31.060000</td>\n",
       "      <td>77.000000</td>\n",
       "      <td>16.997900</td>\n",
       "      <td>49.000000</td>\n",
       "      <td>222.000000</td>\n",
       "      <td>284.000000</td>\n",
       "    </tr>\n",
       "    <tr>\n",
       "      <th>max</th>\n",
       "      <td>4.000000</td>\n",
       "      <td>1.000000</td>\n",
       "      <td>1.000000</td>\n",
       "      <td>4.000000</td>\n",
       "      <td>41.00000</td>\n",
       "      <td>45.455000</td>\n",
       "      <td>100.000000</td>\n",
       "      <td>56.996900</td>\n",
       "      <td>367.000000</td>\n",
       "      <td>886.000000</td>\n",
       "      <td>977.000000</td>\n",
       "    </tr>\n",
       "  </tbody>\n",
       "</table>\n",
       "</div>"
      ],
      "text/plain": [
       "             season       holiday    workingday       weather         temp  \\\n",
       "count  10886.000000  10886.000000  10886.000000  10886.000000  10886.00000   \n",
       "mean       2.506614      0.028569      0.680875      1.418427     20.23086   \n",
       "std        1.116174      0.166599      0.466159      0.633839      7.79159   \n",
       "min        1.000000      0.000000      0.000000      1.000000      0.82000   \n",
       "25%        2.000000      0.000000      0.000000      1.000000     13.94000   \n",
       "50%        3.000000      0.000000      1.000000      1.000000     20.50000   \n",
       "75%        4.000000      0.000000      1.000000      2.000000     26.24000   \n",
       "max        4.000000      1.000000      1.000000      4.000000     41.00000   \n",
       "\n",
       "              atemp      humidity     windspeed        casual    registered  \\\n",
       "count  10886.000000  10886.000000  10886.000000  10886.000000  10886.000000   \n",
       "mean      23.655084     61.879504     12.799395     36.021955    155.552177   \n",
       "std        8.474601     19.238558      8.164537     49.960477    151.039033   \n",
       "min        0.760000      0.000000      0.000000      0.000000      0.000000   \n",
       "25%       16.665000     47.000000      7.001500      4.000000     36.000000   \n",
       "50%       24.240000     62.000000     12.998000     17.000000    118.000000   \n",
       "75%       31.060000     77.000000     16.997900     49.000000    222.000000   \n",
       "max       45.455000    100.000000     56.996900    367.000000    886.000000   \n",
       "\n",
       "              count  \n",
       "count  10886.000000  \n",
       "mean     191.574132  \n",
       "std      181.144454  \n",
       "min        1.000000  \n",
       "25%       42.000000  \n",
       "50%      145.000000  \n",
       "75%      284.000000  \n",
       "max      977.000000  "
      ]
     },
     "execution_count": 12,
     "metadata": {},
     "output_type": "execute_result"
    }
   ],
   "source": [
    "df.describe()"
   ]
  },
  {
   "cell_type": "markdown",
   "metadata": {},
   "source": [
    "## FEATURE ENGINEERING"
   ]
  },
  {
   "cell_type": "markdown",
   "metadata": {},
   "source": [
    "### Split DateTime for getting better insights from data "
   ]
  },
  {
   "cell_type": "code",
   "execution_count": 13,
   "metadata": {},
   "outputs": [
    {
     "data": {
      "text/html": [
       "<div>\n",
       "<style scoped>\n",
       "    .dataframe tbody tr th:only-of-type {\n",
       "        vertical-align: middle;\n",
       "    }\n",
       "\n",
       "    .dataframe tbody tr th {\n",
       "        vertical-align: top;\n",
       "    }\n",
       "\n",
       "    .dataframe thead th {\n",
       "        text-align: right;\n",
       "    }\n",
       "</style>\n",
       "<table border=\"1\" class=\"dataframe\">\n",
       "  <thead>\n",
       "    <tr style=\"text-align: right;\">\n",
       "      <th></th>\n",
       "      <th>datetime</th>\n",
       "      <th>season</th>\n",
       "      <th>holiday</th>\n",
       "      <th>workingday</th>\n",
       "      <th>weather</th>\n",
       "      <th>temp</th>\n",
       "      <th>atemp</th>\n",
       "      <th>humidity</th>\n",
       "      <th>windspeed</th>\n",
       "      <th>casual</th>\n",
       "      <th>registered</th>\n",
       "      <th>count</th>\n",
       "      <th>year</th>\n",
       "      <th>month</th>\n",
       "      <th>hour</th>\n",
       "      <th>weekday</th>\n",
       "    </tr>\n",
       "  </thead>\n",
       "  <tbody>\n",
       "    <tr>\n",
       "      <th>0</th>\n",
       "      <td>01-01-2011 00:00</td>\n",
       "      <td>1</td>\n",
       "      <td>0</td>\n",
       "      <td>0</td>\n",
       "      <td>1</td>\n",
       "      <td>9.84</td>\n",
       "      <td>14.395</td>\n",
       "      <td>81.000000</td>\n",
       "      <td>0.0</td>\n",
       "      <td>3</td>\n",
       "      <td>13</td>\n",
       "      <td>16</td>\n",
       "      <td>2011</td>\n",
       "      <td>1</td>\n",
       "      <td>0</td>\n",
       "      <td>5</td>\n",
       "    </tr>\n",
       "    <tr>\n",
       "      <th>1</th>\n",
       "      <td>01-01-2011 01:00</td>\n",
       "      <td>1</td>\n",
       "      <td>0</td>\n",
       "      <td>0</td>\n",
       "      <td>1</td>\n",
       "      <td>9.02</td>\n",
       "      <td>13.635</td>\n",
       "      <td>80.000000</td>\n",
       "      <td>0.0</td>\n",
       "      <td>8</td>\n",
       "      <td>32</td>\n",
       "      <td>40</td>\n",
       "      <td>2011</td>\n",
       "      <td>1</td>\n",
       "      <td>1</td>\n",
       "      <td>5</td>\n",
       "    </tr>\n",
       "    <tr>\n",
       "      <th>2</th>\n",
       "      <td>01-01-2011 02:00</td>\n",
       "      <td>1</td>\n",
       "      <td>0</td>\n",
       "      <td>0</td>\n",
       "      <td>1</td>\n",
       "      <td>9.02</td>\n",
       "      <td>13.635</td>\n",
       "      <td>80.000000</td>\n",
       "      <td>0.0</td>\n",
       "      <td>5</td>\n",
       "      <td>27</td>\n",
       "      <td>32</td>\n",
       "      <td>2011</td>\n",
       "      <td>1</td>\n",
       "      <td>2</td>\n",
       "      <td>5</td>\n",
       "    </tr>\n",
       "    <tr>\n",
       "      <th>3</th>\n",
       "      <td>01-01-2011 03:00</td>\n",
       "      <td>1</td>\n",
       "      <td>0</td>\n",
       "      <td>0</td>\n",
       "      <td>1</td>\n",
       "      <td>9.84</td>\n",
       "      <td>14.395</td>\n",
       "      <td>61.879504</td>\n",
       "      <td>0.0</td>\n",
       "      <td>3</td>\n",
       "      <td>10</td>\n",
       "      <td>13</td>\n",
       "      <td>2011</td>\n",
       "      <td>1</td>\n",
       "      <td>3</td>\n",
       "      <td>5</td>\n",
       "    </tr>\n",
       "    <tr>\n",
       "      <th>4</th>\n",
       "      <td>01-01-2011 04:00</td>\n",
       "      <td>1</td>\n",
       "      <td>0</td>\n",
       "      <td>0</td>\n",
       "      <td>1</td>\n",
       "      <td>9.84</td>\n",
       "      <td>14.395</td>\n",
       "      <td>75.000000</td>\n",
       "      <td>0.0</td>\n",
       "      <td>0</td>\n",
       "      <td>1</td>\n",
       "      <td>1</td>\n",
       "      <td>2011</td>\n",
       "      <td>1</td>\n",
       "      <td>4</td>\n",
       "      <td>5</td>\n",
       "    </tr>\n",
       "  </tbody>\n",
       "</table>\n",
       "</div>"
      ],
      "text/plain": [
       "           datetime  season  holiday  workingday  weather  temp   atemp  \\\n",
       "0  01-01-2011 00:00       1        0           0        1  9.84  14.395   \n",
       "1  01-01-2011 01:00       1        0           0        1  9.02  13.635   \n",
       "2  01-01-2011 02:00       1        0           0        1  9.02  13.635   \n",
       "3  01-01-2011 03:00       1        0           0        1  9.84  14.395   \n",
       "4  01-01-2011 04:00       1        0           0        1  9.84  14.395   \n",
       "\n",
       "    humidity  windspeed  casual  registered  count  year  month  hour  weekday  \n",
       "0  81.000000        0.0       3          13     16  2011      1     0        5  \n",
       "1  80.000000        0.0       8          32     40  2011      1     1        5  \n",
       "2  80.000000        0.0       5          27     32  2011      1     2        5  \n",
       "3  61.879504        0.0       3          10     13  2011      1     3        5  \n",
       "4  75.000000        0.0       0           1      1  2011      1     4        5  "
      ]
     },
     "execution_count": 13,
     "metadata": {},
     "output_type": "execute_result"
    }
   ],
   "source": [
    "temp = pd.DatetimeIndex(df['datetime'])\n",
    "df['year'] = temp.year\n",
    "df['month'] = temp.month\n",
    "df['hour'] = temp.hour\n",
    "df['weekday'] = temp.weekday\n",
    "df.head()"
   ]
  },
  {
   "cell_type": "markdown",
   "metadata": {},
   "source": [
    "### Drop DateTime"
   ]
  },
  {
   "cell_type": "code",
   "execution_count": 14,
   "metadata": {},
   "outputs": [],
   "source": [
    "df  = df.drop([\"datetime\"],axis=1)"
   ]
  },
  {
   "cell_type": "markdown",
   "metadata": {},
   "source": [
    "## EXPLORATORY DATA ANALYSIS - Visualization"
   ]
  },
  {
   "cell_type": "markdown",
   "metadata": {},
   "source": [
    "### Grouping by season, plot the box plot"
   ]
  },
  {
   "cell_type": "code",
   "execution_count": 15,
   "metadata": {},
   "outputs": [
    {
     "data": {
      "image/png": "[encoded data removed]",
      "text/plain": [
       "<Figure size 432x288 with 1 Axes>"
      ]
     },
     "metadata": {
      "needs_background": "light"
     },
     "output_type": "display_data"
    }
   ],
   "source": [
    "season_group= (df.groupby(\"season\"))[\"count\"].sum()\n",
    "season_group.reset_index(name=\"total_rentals\")\n",
    "sns.boxplot(y='count',x='season',data=df,width=0.5,palette=\"colorblind\")\n",
    "plt.xlabel('Season')\n",
    "plt.ylabel('Rental-Count')\n",
    "plt.show()"
   ]
  },
  {
   "cell_type": "code",
   "execution_count": 16,
   "metadata": {},
   "outputs": [
    {
     "data": {
      "image/png": "[encoded data removed]",
      "text/plain": [
       "<Figure size 432x288 with 1 Axes>"
      ]
     },
     "metadata": {
      "needs_background": "light"
     },
     "output_type": "display_data"
    }
   ],
   "source": [
    "sns.barplot(x='season', y='count', data=df,palette=\"colorblind\")\n",
    "plt.xlabel('Season')\n",
    "plt.ylabel('Rental-Count')\n",
    "plt.rcParams[\"figure.figsize\"] = (6, 5)"
   ]
  },
  {
   "cell_type": "markdown",
   "metadata": {},
   "source": [
    "### Grouping by weekday, plot the box plot"
   ]
  },
  {
   "cell_type": "code",
   "execution_count": 17,
   "metadata": {},
   "outputs": [
    {
     "data": {
      "image/png": "[encoded data removed]",
      "text/plain": [
       "<Figure size 432x360 with 1 Axes>"
      ]
     },
     "metadata": {
      "needs_background": "light"
     },
     "output_type": "display_data"
    }
   ],
   "source": [
    "weekday_group= (df.groupby(\"weekday\"))[\"count\"].sum()\n",
    "weekday_group.reset_index(name=\"total_rentals\")\n",
    "sns.boxplot(y='count',x='weekday',data=df,width=0.5,palette=\"colorblind\")\n",
    "plt.xlabel('Weekday')\n",
    "plt.ylabel('Rental-Count')\n",
    "plt.show()"
   ]
  },
  {
   "cell_type": "code",
   "execution_count": 18,
   "metadata": {},
   "outputs": [
    {
     "data": {
      "image/png": "[encoded data removed]",
      "text/plain": [
       "<Figure size 432x360 with 1 Axes>"
      ]
     },
     "metadata": {
      "needs_background": "light"
     },
     "output_type": "display_data"
    }
   ],
   "source": [
    "weekday_group= (df.groupby(\"weekday\"))[\"count\"].sum()\n",
    "weekday_group.reset_index(name=\"total_rentals\")\n",
    "sns.barplot(y='count',x='weekday',data=df,palette=\"colorblind\")\n",
    "plt.xlabel('Weekday')\n",
    "plt.ylabel('Rental-Count')\n",
    "plt.show()"
   ]
  },
  {
   "cell_type": "markdown",
   "metadata": {},
   "source": [
    "### Seeing the difference between workday and non-workday "
   ]
  },
  {
   "cell_type": "code",
   "execution_count": 19,
   "metadata": {},
   "outputs": [
    {
     "data": {
      "image/png": "[encoded data removed]",
      "text/plain": [
       "<Figure size 432x360 with 1 Axes>"
      ]
     },
     "metadata": {
      "needs_background": "light"
     },
     "output_type": "display_data"
    }
   ],
   "source": [
    "wd_group= (df.groupby(\"workingday\"))[\"count\"].sum()\n",
    "wd_group.reset_index(name=\"total_rentals\")\n",
    "sns.boxplot(y='count',x='workingday',data=df,width=0.5,palette=\"colorblind\")\n",
    "plt.xlabel('Working-Day')\n",
    "plt.ylabel('Rental-Count')\n",
    "plt.show()"
   ]
  },
  {
   "cell_type": "code",
   "execution_count": 20,
   "metadata": {},
   "outputs": [
    {
     "data": {
      "image/png": "[encoded data removed]",
      "text/plain": [
       "<Figure size 432x360 with 1 Axes>"
      ]
     },
     "metadata": {
      "needs_background": "light"
     },
     "output_type": "display_data"
    }
   ],
   "source": [
    "wd_group= (df.groupby(\"workingday\"))[\"count\"].sum()\n",
    "wd_group.reset_index(name=\"total_rentals\")\n",
    "sns.barplot(y='count',x='workingday',data=df,palette=\"colorblind\")\n",
    "plt.xlabel('Working-Day')\n",
    "plt.ylabel('Rental-Count')\n",
    "plt.rcParams[\"figure.figsize\"] = (6, 5)"
   ]
  },
  {
   "cell_type": "markdown",
   "metadata": {},
   "source": [
    "### Grouping by weather and plot the box plot "
   ]
  },
  {
   "cell_type": "code",
   "execution_count": 21,
   "metadata": {},
   "outputs": [
    {
     "data": {
      "image/png": "[encoded data removed]",
      "text/plain": [
       "<Figure size 432x360 with 1 Axes>"
      ]
     },
     "metadata": {
      "needs_background": "light"
     },
     "output_type": "display_data"
    }
   ],
   "source": [
    "weather_group= (df.groupby(\"weather\"))[\"count\"].sum()\n",
    "weather_group.reset_index(name=\"total_rentals\")\n",
    "sns.boxplot(y='count',x='weather',data=df,width=0.5,palette=\"colorblind\")\n",
    "plt.rcParams[\"figure.figsize\"] = (8, 6)\n",
    "plt.xlabel('Weather')\n",
    "plt.ylabel('Rental-Count')\n",
    "plt.show()"
   ]
  },
  {
   "cell_type": "code",
   "execution_count": 22,
   "metadata": {},
   "outputs": [
    {
     "data": {
      "image/png": "[encoded data removed]",
      "text/plain": [
       "<Figure size 576x432 with 1 Axes>"
      ]
     },
     "metadata": {
      "needs_background": "light"
     },
     "output_type": "display_data"
    }
   ],
   "source": [
    "sns.barplot(x='weather', y='count', data=df,palette=\"colorblind\")\n",
    "plt.xlabel('Weather')\n",
    "plt.ylabel('Rental-Count')\n",
    "plt.rcParams[\"figure.figsize\"] = (6, 5)"
   ]
  },
  {
   "cell_type": "markdown",
   "metadata": {},
   "source": [
    "### Group by season and see the difference between the 2 years "
   ]
  },
  {
   "cell_type": "code",
   "execution_count": 23,
   "metadata": {},
   "outputs": [
    {
     "data": {
      "text/plain": [
       "Text(0, 0.5, 'Rental-Count')"
      ]
     },
     "execution_count": 23,
     "metadata": {},
     "output_type": "execute_result"
    },
    {
     "data": {
      "image/png": "[encoded data removed]",
      "text/plain": [
       "<Figure size 432x360 with 1 Axes>"
      ]
     },
     "metadata": {
      "needs_background": "light"
     },
     "output_type": "display_data"
    }
   ],
   "source": [
    "sns.boxplot(y='count',x='year',data=df,hue='season',width=0.5,palette=\"colorblind\")\n",
    "plt.xlabel('Year')\n",
    "plt.ylabel('Rental-Count')"
   ]
  },
  {
   "cell_type": "code",
   "execution_count": 24,
   "metadata": {},
   "outputs": [
    {
     "data": {
      "image/png": "[encoded data removed]",
      "text/plain": [
       "<Figure size 432x360 with 1 Axes>"
      ]
     },
     "metadata": {
      "needs_background": "light"
     },
     "output_type": "display_data"
    }
   ],
   "source": [
    "sns.barplot(y='count',x='year',data=df,hue='season',palette=\"colorblind\")\n",
    "plt.xlabel('Year')\n",
    "plt.ylabel('Rental-Count')\n",
    "plt.rcParams[\"figure.figsize\"] = (6.5, 6)"
   ]
  },
  {
   "cell_type": "markdown",
   "metadata": {},
   "source": [
    "### Annual change"
   ]
  },
  {
   "cell_type": "code",
   "execution_count": 25,
   "metadata": {},
   "outputs": [
    {
     "data": {
      "image/png": "[encoded data removed]",
      "text/plain": [
       "<Figure size 468x432 with 1 Axes>"
      ]
     },
     "metadata": {
      "needs_background": "light"
     },
     "output_type": "display_data"
    }
   ],
   "source": [
    "year_group= (df.groupby(\"year\"))[\"count\"].sum()\n",
    "year_group.reset_index(name=\"total_rentals\")\n",
    "sns.boxplot(y='count',x='year',data=df,width=0.5,palette=\"colorblind\")\n",
    "plt.xlabel('Year')\n",
    "plt.ylabel('Rental-Count')\n",
    "plt.show()"
   ]
  },
  {
   "cell_type": "code",
   "execution_count": 26,
   "metadata": {},
   "outputs": [
    {
     "data": {
      "image/png": "[encoded data removed]",
      "text/plain": [
       "<Figure size 468x432 with 1 Axes>"
      ]
     },
     "metadata": {
      "needs_background": "light"
     },
     "output_type": "display_data"
    }
   ],
   "source": [
    "year_group= (df.groupby(\"year\"))[\"count\"].sum()\n",
    "year_group.reset_index(name=\"total_rentals\")\n",
    "sns.barplot(y='count',x='year',data=df,palette=\"colorblind\")\n",
    "plt.xlabel('Year')\n",
    "plt.ylabel('Rental-Count')\n",
    "plt.rcParams[\"figure.figsize\"] = (5, 5)"
   ]
  },
  {
   "cell_type": "markdown",
   "metadata": {},
   "source": [
    "###  Monthly change"
   ]
  },
  {
   "cell_type": "code",
   "execution_count": 27,
   "metadata": {},
   "outputs": [
    {
     "data": {
      "image/png": "[encoded data removed]",
      "text/plain": [
       "<Figure size 360x360 with 1 Axes>"
      ]
     },
     "metadata": {
      "needs_background": "light"
     },
     "output_type": "display_data"
    }
   ],
   "source": [
    "month_group= (df.groupby(\"month\"))[\"count\"].sum()\n",
    "month_group.reset_index(name=\"total_rentals\")\n",
    "sns.boxplot(y='count',x='month',data=df,width=0.5,palette=\"colorblind\")\n",
    "plt.xlabel('Month')\n",
    "plt.ylabel('Rental-Count')\n",
    "plt.show()"
   ]
  },
  {
   "cell_type": "code",
   "execution_count": 28,
   "metadata": {},
   "outputs": [
    {
     "data": {
      "image/png": "[encoded data removed]",
      "text/plain": [
       "<Figure size 360x360 with 1 Axes>"
      ]
     },
     "metadata": {
      "needs_background": "light"
     },
     "output_type": "display_data"
    }
   ],
   "source": [
    "month_group= (df.groupby(\"month\"))[\"count\"].sum()\n",
    "month_group.reset_index(name=\"total_rentals\")\n",
    "sns.barplot(y='count',x='month',data=df,palette=\"colorblind\")\n",
    "plt.xlabel('Month')\n",
    "plt.ylabel('Rental-Count')\n",
    "plt.rcParams[\"figure.figsize\"] = (8, 6)"
   ]
  },
  {
   "cell_type": "markdown",
   "metadata": {},
   "source": [
    "###  Hourly change expressed in bar graph"
   ]
  },
  {
   "cell_type": "code",
   "execution_count": 29,
   "metadata": {},
   "outputs": [
    {
     "data": {
      "image/png": "[encoded data removed]",
      "text/plain": [
       "<Figure size 576x432 with 1 Axes>"
      ]
     },
     "metadata": {
      "needs_background": "light"
     },
     "output_type": "display_data"
    }
   ],
   "source": [
    "hour_group= (df.groupby(\"hour\"))[\"count\"].sum()\n",
    "hour_group.reset_index(name=\"total_rentals\")\n",
    "sns.barplot(y='count',x='hour',data=df,palette=\"colorblind\")\n",
    "plt.xlabel('Hour')\n",
    "plt.ylabel('Rental-Count')\n",
    "plt.show()"
   ]
  },
  {
   "cell_type": "code",
   "execution_count": null,
   "metadata": {},
   "outputs": [],
   "source": []
  },
  {
   "cell_type": "markdown",
   "metadata": {},
   "source": [
    "# Average Users Count By Hour Of The Day Across Season"
   ]
  },
  {
   "cell_type": "code",
   "execution_count": 30,
   "metadata": {},
   "outputs": [
    {
     "data": {
      "text/plain": [
       "[Text(0.5, 0, 'Hour Of The Day'),\n",
       " Text(0, 0.5, 'Users Count'),\n",
       " Text(0.5, 1.0, 'Average Users Count By Hour Of The Day Across Season'),\n",
       " None]"
      ]
     },
     "execution_count": 30,
     "metadata": {},
     "output_type": "execute_result"
    },
    {
     "data": {
      "image/png": "[encoded data removed]",
      "text/plain": [
       "<Figure size 864x576 with 1 Axes>"
      ]
     },
     "metadata": {
      "needs_background": "light"
     },
     "output_type": "display_data"
    }
   ],
   "source": [
    "fig,(ax2)= plt.subplots()\n",
    "fig.set_size_inches(12,8)\n",
    "\n",
    "hourAggregated = pd.DataFrame(df.groupby([\"hour\",\"season\"],sort=True)[\"count\"].mean()).reset_index()\n",
    "sns.pointplot(x=hourAggregated[\"hour\"], y=hourAggregated[\"count\"],hue=hourAggregated[\"season\"], data=hourAggregated, join=True,ax=ax2)\n",
    "ax2.set(xlabel='Hour Of The Day', ylabel='Users Count',title=\"Average Users Count By Hour Of The Day Across Season\",label='big')\n"
   ]
  },
  {
   "cell_type": "markdown",
   "metadata": {},
   "source": [
    "## MODEL BUILDING "
   ]
  },
  {
   "cell_type": "markdown",
   "metadata": {},
   "source": [
    "### Understand dependencies between Attributes"
   ]
  },
  {
   "cell_type": "code",
   "execution_count": 31,
   "metadata": {},
   "outputs": [
    {
     "data": {
      "text/html": [
       "<style  type=\"text/css\" >\n",
       "#T_eae82658_ca81_11eb_bcb9_b4b686e58d3frow0_col0,#T_eae82658_ca81_11eb_bcb9_b4b686e58d3frow1_col1,#T_eae82658_ca81_11eb_bcb9_b4b686e58d3frow2_col2,#T_eae82658_ca81_11eb_bcb9_b4b686e58d3frow3_col3,#T_eae82658_ca81_11eb_bcb9_b4b686e58d3frow4_col4,#T_eae82658_ca81_11eb_bcb9_b4b686e58d3frow5_col5,#T_eae82658_ca81_11eb_bcb9_b4b686e58d3frow6_col6,#T_eae82658_ca81_11eb_bcb9_b4b686e58d3frow7_col7,#T_eae82658_ca81_11eb_bcb9_b4b686e58d3frow8_col8,#T_eae82658_ca81_11eb_bcb9_b4b686e58d3frow9_col9,#T_eae82658_ca81_11eb_bcb9_b4b686e58d3frow10_col10,#T_eae82658_ca81_11eb_bcb9_b4b686e58d3frow11_col11,#T_eae82658_ca81_11eb_bcb9_b4b686e58d3frow12_col12,#T_eae82658_ca81_11eb_bcb9_b4b686e58d3frow13_col13,#T_eae82658_ca81_11eb_bcb9_b4b686e58d3frow14_col14{\n",
       "            background-color:  #023858;\n",
       "            color:  #f1f1f1;\n",
       "        }#T_eae82658_ca81_11eb_bcb9_b4b686e58d3frow0_col1,#T_eae82658_ca81_11eb_bcb9_b4b686e58d3frow5_col6,#T_eae82658_ca81_11eb_bcb9_b4b686e58d3frow12_col7,#T_eae82658_ca81_11eb_bcb9_b4b686e58d3frow12_col14,#T_eae82658_ca81_11eb_bcb9_b4b686e58d3frow13_col14{\n",
       "            background-color:  #d6d6e9;\n",
       "            color:  #000000;\n",
       "        }#T_eae82658_ca81_11eb_bcb9_b4b686e58d3frow0_col2,#T_eae82658_ca81_11eb_bcb9_b4b686e58d3frow1_col10,#T_eae82658_ca81_11eb_bcb9_b4b686e58d3frow8_col1{\n",
       "            background-color:  #d3d4e7;\n",
       "            color:  #000000;\n",
       "        }#T_eae82658_ca81_11eb_bcb9_b4b686e58d3frow0_col3,#T_eae82658_ca81_11eb_bcb9_b4b686e58d3frow5_col11,#T_eae82658_ca81_11eb_bcb9_b4b686e58d3frow7_col3{\n",
       "            background-color:  #ece7f2;\n",
       "            color:  #000000;\n",
       "        }#T_eae82658_ca81_11eb_bcb9_b4b686e58d3frow0_col4,#T_eae82658_ca81_11eb_bcb9_b4b686e58d3frow2_col9{\n",
       "            background-color:  #bfc9e1;\n",
       "            color:  #000000;\n",
       "        }#T_eae82658_ca81_11eb_bcb9_b4b686e58d3frow0_col5{\n",
       "            background-color:  #bdc8e1;\n",
       "            color:  #000000;\n",
       "        }#T_eae82658_ca81_11eb_bcb9_b4b686e58d3frow0_col6{\n",
       "            background-color:  #9cb9d9;\n",
       "            color:  #000000;\n",
       "        }#T_eae82658_ca81_11eb_bcb9_b4b686e58d3frow0_col7,#T_eae82658_ca81_11eb_bcb9_b4b686e58d3frow4_col11{\n",
       "            background-color:  #ebe6f2;\n",
       "            color:  #000000;\n",
       "        }#T_eae82658_ca81_11eb_bcb9_b4b686e58d3frow0_col8,#T_eae82658_ca81_11eb_bcb9_b4b686e58d3frow4_col13{\n",
       "            background-color:  #b5c4df;\n",
       "            color:  #000000;\n",
       "        }#T_eae82658_ca81_11eb_bcb9_b4b686e58d3frow0_col9{\n",
       "            background-color:  #b3c3de;\n",
       "            color:  #000000;\n",
       "        }#T_eae82658_ca81_11eb_bcb9_b4b686e58d3frow0_col10,#T_eae82658_ca81_11eb_bcb9_b4b686e58d3frow11_col8{\n",
       "            background-color:  #a9bfdc;\n",
       "            color:  #000000;\n",
       "        }#T_eae82658_ca81_11eb_bcb9_b4b686e58d3frow0_col11,#T_eae82658_ca81_11eb_bcb9_b4b686e58d3frow2_col11,#T_eae82658_ca81_11eb_bcb9_b4b686e58d3frow8_col12,#T_eae82658_ca81_11eb_bcb9_b4b686e58d3frow13_col11,#T_eae82658_ca81_11eb_bcb9_b4b686e58d3frow14_col11{\n",
       "            background-color:  #f5eef6;\n",
       "            color:  #000000;\n",
       "        }#T_eae82658_ca81_11eb_bcb9_b4b686e58d3frow0_col12{\n",
       "            background-color:  #9fbad9;\n",
       "            color:  #000000;\n",
       "        }#T_eae82658_ca81_11eb_bcb9_b4b686e58d3frow0_col13,#T_eae82658_ca81_11eb_bcb9_b4b686e58d3frow0_col14,#T_eae82658_ca81_11eb_bcb9_b4b686e58d3frow4_col6,#T_eae82658_ca81_11eb_bcb9_b4b686e58d3frow7_col1,#T_eae82658_ca81_11eb_bcb9_b4b686e58d3frow8_col0,#T_eae82658_ca81_11eb_bcb9_b4b686e58d3frow8_col11,#T_eae82658_ca81_11eb_bcb9_b4b686e58d3frow11_col1,#T_eae82658_ca81_11eb_bcb9_b4b686e58d3frow11_col13{\n",
       "            background-color:  #d9d8ea;\n",
       "            color:  #000000;\n",
       "        }#T_eae82658_ca81_11eb_bcb9_b4b686e58d3frow1_col0,#T_eae82658_ca81_11eb_bcb9_b4b686e58d3frow12_col1{\n",
       "            background-color:  #e6e2ef;\n",
       "            color:  #000000;\n",
       "        }#T_eae82658_ca81_11eb_bcb9_b4b686e58d3frow1_col2,#T_eae82658_ca81_11eb_bcb9_b4b686e58d3frow7_col11,#T_eae82658_ca81_11eb_bcb9_b4b686e58d3frow11_col12,#T_eae82658_ca81_11eb_bcb9_b4b686e58d3frow13_col6,#T_eae82658_ca81_11eb_bcb9_b4b686e58d3frow13_col12,#T_eae82658_ca81_11eb_bcb9_b4b686e58d3frow14_col12{\n",
       "            background-color:  #f7f0f7;\n",
       "            color:  #000000;\n",
       "        }#T_eae82658_ca81_11eb_bcb9_b4b686e58d3frow1_col3,#T_eae82658_ca81_11eb_bcb9_b4b686e58d3frow9_col12,#T_eae82658_ca81_11eb_bcb9_b4b686e58d3frow14_col0{\n",
       "            background-color:  #eee8f3;\n",
       "            color:  #000000;\n",
       "        }#T_eae82658_ca81_11eb_bcb9_b4b686e58d3frow1_col4,#T_eae82658_ca81_11eb_bcb9_b4b686e58d3frow3_col11,#T_eae82658_ca81_11eb_bcb9_b4b686e58d3frow9_col6{\n",
       "            background-color:  #f6eff7;\n",
       "            color:  #000000;\n",
       "        }#T_eae82658_ca81_11eb_bcb9_b4b686e58d3frow1_col5,#T_eae82658_ca81_11eb_bcb9_b4b686e58d3frow3_col12,#T_eae82658_ca81_11eb_bcb9_b4b686e58d3frow7_col4{\n",
       "            background-color:  #f8f1f8;\n",
       "            color:  #000000;\n",
       "        }#T_eae82658_ca81_11eb_bcb9_b4b686e58d3frow1_col6,#T_eae82658_ca81_11eb_bcb9_b4b686e58d3frow5_col2,#T_eae82658_ca81_11eb_bcb9_b4b686e58d3frow12_col9{\n",
       "            background-color:  #cdd0e5;\n",
       "            color:  #000000;\n",
       "        }#T_eae82658_ca81_11eb_bcb9_b4b686e58d3frow1_col7,#T_eae82658_ca81_11eb_bcb9_b4b686e58d3frow2_col10,#T_eae82658_ca81_11eb_bcb9_b4b686e58d3frow3_col7{\n",
       "            background-color:  #d1d2e6;\n",
       "            color:  #000000;\n",
       "        }#T_eae82658_ca81_11eb_bcb9_b4b686e58d3frow1_col8{\n",
       "            background-color:  #c2cbe2;\n",
       "            color:  #000000;\n",
       "        }#T_eae82658_ca81_11eb_bcb9_b4b686e58d3frow1_col9,#T_eae82658_ca81_11eb_bcb9_b4b686e58d3frow3_col1,#T_eae82658_ca81_11eb_bcb9_b4b686e58d3frow4_col14{\n",
       "            background-color:  #dddbec;\n",
       "            color:  #000000;\n",
       "        }#T_eae82658_ca81_11eb_bcb9_b4b686e58d3frow1_col11,#T_eae82658_ca81_11eb_bcb9_b4b686e58d3frow2_col4{\n",
       "            background-color:  #f2ecf5;\n",
       "            color:  #000000;\n",
       "        }#T_eae82658_ca81_11eb_bcb9_b4b686e58d3frow1_col12,#T_eae82658_ca81_11eb_bcb9_b4b686e58d3frow2_col1,#T_eae82658_ca81_11eb_bcb9_b4b686e58d3frow2_col14,#T_eae82658_ca81_11eb_bcb9_b4b686e58d3frow3_col5,#T_eae82658_ca81_11eb_bcb9_b4b686e58d3frow6_col4,#T_eae82658_ca81_11eb_bcb9_b4b686e58d3frow6_col7,#T_eae82658_ca81_11eb_bcb9_b4b686e58d3frow6_col8,#T_eae82658_ca81_11eb_bcb9_b4b686e58d3frow6_col9,#T_eae82658_ca81_11eb_bcb9_b4b686e58d3frow6_col10,#T_eae82658_ca81_11eb_bcb9_b4b686e58d3frow6_col11,#T_eae82658_ca81_11eb_bcb9_b4b686e58d3frow6_col13,#T_eae82658_ca81_11eb_bcb9_b4b686e58d3frow7_col0,#T_eae82658_ca81_11eb_bcb9_b4b686e58d3frow7_col5,#T_eae82658_ca81_11eb_bcb9_b4b686e58d3frow8_col2,#T_eae82658_ca81_11eb_bcb9_b4b686e58d3frow8_col3,#T_eae82658_ca81_11eb_bcb9_b4b686e58d3frow8_col6{\n",
       "            background-color:  #fff7fb;\n",
       "            color:  #000000;\n",
       "        }#T_eae82658_ca81_11eb_bcb9_b4b686e58d3frow1_col13,#T_eae82658_ca81_11eb_bcb9_b4b686e58d3frow6_col14,#T_eae82658_ca81_11eb_bcb9_b4b686e58d3frow12_col13,#T_eae82658_ca81_11eb_bcb9_b4b686e58d3frow14_col13{\n",
       "            background-color:  #d8d7e9;\n",
       "            color:  #000000;\n",
       "        }#T_eae82658_ca81_11eb_bcb9_b4b686e58d3frow1_col14{\n",
       "            background-color:  #e4e1ef;\n",
       "            color:  #000000;\n",
       "        }#T_eae82658_ca81_11eb_bcb9_b4b686e58d3frow2_col0,#T_eae82658_ca81_11eb_bcb9_b4b686e58d3frow3_col9,#T_eae82658_ca81_11eb_bcb9_b4b686e58d3frow11_col0,#T_eae82658_ca81_11eb_bcb9_b4b686e58d3frow13_col0{\n",
       "            background-color:  #ede7f2;\n",
       "            color:  #000000;\n",
       "        }#T_eae82658_ca81_11eb_bcb9_b4b686e58d3frow2_col3{\n",
       "            background-color:  #e7e3f0;\n",
       "            color:  #000000;\n",
       "        }#T_eae82658_ca81_11eb_bcb9_b4b686e58d3frow2_col5{\n",
       "            background-color:  #f4edf6;\n",
       "            color:  #000000;\n",
       "        }#T_eae82658_ca81_11eb_bcb9_b4b686e58d3frow2_col6,#T_eae82658_ca81_11eb_bcb9_b4b686e58d3frow2_col7,#T_eae82658_ca81_11eb_bcb9_b4b686e58d3frow7_col2,#T_eae82658_ca81_11eb_bcb9_b4b686e58d3frow10_col2,#T_eae82658_ca81_11eb_bcb9_b4b686e58d3frow14_col6{\n",
       "            background-color:  #d0d1e6;\n",
       "            color:  #000000;\n",
       "        }#T_eae82658_ca81_11eb_bcb9_b4b686e58d3frow2_col8,#T_eae82658_ca81_11eb_bcb9_b4b686e58d3frow7_col6,#T_eae82658_ca81_11eb_bcb9_b4b686e58d3frow9_col3,#T_eae82658_ca81_11eb_bcb9_b4b686e58d3frow10_col6,#T_eae82658_ca81_11eb_bcb9_b4b686e58d3frow14_col2,#T_eae82658_ca81_11eb_bcb9_b4b686e58d3frow14_col4{\n",
       "            background-color:  #fcf4fa;\n",
       "            color:  #000000;\n",
       "        }#T_eae82658_ca81_11eb_bcb9_b4b686e58d3frow2_col12,#T_eae82658_ca81_11eb_bcb9_b4b686e58d3frow14_col3{\n",
       "            background-color:  #f3edf5;\n",
       "            color:  #000000;\n",
       "        }#T_eae82658_ca81_11eb_bcb9_b4b686e58d3frow2_col13,#T_eae82658_ca81_11eb_bcb9_b4b686e58d3frow11_col14,#T_eae82658_ca81_11eb_bcb9_b4b686e58d3frow14_col7{\n",
       "            background-color:  #d7d6e9;\n",
       "            color:  #000000;\n",
       "        }#T_eae82658_ca81_11eb_bcb9_b4b686e58d3frow3_col0,#T_eae82658_ca81_11eb_bcb9_b4b686e58d3frow14_col1{\n",
       "            background-color:  #eae6f1;\n",
       "            color:  #000000;\n",
       "        }#T_eae82658_ca81_11eb_bcb9_b4b686e58d3frow3_col2,#T_eae82658_ca81_11eb_bcb9_b4b686e58d3frow12_col8{\n",
       "            background-color:  #cacee5;\n",
       "            color:  #000000;\n",
       "        }#T_eae82658_ca81_11eb_bcb9_b4b686e58d3frow3_col4{\n",
       "            background-color:  #fef6fa;\n",
       "            color:  #000000;\n",
       "        }#T_eae82658_ca81_11eb_bcb9_b4b686e58d3frow3_col6{\n",
       "            background-color:  #569dc8;\n",
       "            color:  #000000;\n",
       "        }#T_eae82658_ca81_11eb_bcb9_b4b686e58d3frow3_col8{\n",
       "            background-color:  #e5e1ef;\n",
       "            color:  #000000;\n",
       "        }#T_eae82658_ca81_11eb_bcb9_b4b686e58d3frow3_col10{\n",
       "            background-color:  #e8e4f0;\n",
       "            color:  #000000;\n",
       "        }#T_eae82658_ca81_11eb_bcb9_b4b686e58d3frow3_col13,#T_eae82658_ca81_11eb_bcb9_b4b686e58d3frow4_col1,#T_eae82658_ca81_11eb_bcb9_b4b686e58d3frow6_col1,#T_eae82658_ca81_11eb_bcb9_b4b686e58d3frow9_col14,#T_eae82658_ca81_11eb_bcb9_b4b686e58d3frow11_col6,#T_eae82658_ca81_11eb_bcb9_b4b686e58d3frow13_col1{\n",
       "            background-color:  #dbdaeb;\n",
       "            color:  #000000;\n",
       "        }#T_eae82658_ca81_11eb_bcb9_b4b686e58d3frow3_col14,#T_eae82658_ca81_11eb_bcb9_b4b686e58d3frow5_col14{\n",
       "            background-color:  #dedcec;\n",
       "            color:  #000000;\n",
       "        }#T_eae82658_ca81_11eb_bcb9_b4b686e58d3frow4_col0,#T_eae82658_ca81_11eb_bcb9_b4b686e58d3frow9_col5,#T_eae82658_ca81_11eb_bcb9_b4b686e58d3frow13_col7{\n",
       "            background-color:  #adc1dd;\n",
       "            color:  #000000;\n",
       "        }#T_eae82658_ca81_11eb_bcb9_b4b686e58d3frow4_col2,#T_eae82658_ca81_11eb_bcb9_b4b686e58d3frow12_col2{\n",
       "            background-color:  #cccfe5;\n",
       "            color:  #000000;\n",
       "        }#T_eae82658_ca81_11eb_bcb9_b4b686e58d3frow4_col3,#T_eae82658_ca81_11eb_bcb9_b4b686e58d3frow5_col3,#T_eae82658_ca81_11eb_bcb9_b4b686e58d3frow12_col11{\n",
       "            background-color:  #f4eef6;\n",
       "            color:  #000000;\n",
       "        }#T_eae82658_ca81_11eb_bcb9_b4b686e58d3frow4_col5,#T_eae82658_ca81_11eb_bcb9_b4b686e58d3frow5_col4{\n",
       "            background-color:  #023b5d;\n",
       "            color:  #f1f1f1;\n",
       "        }#T_eae82658_ca81_11eb_bcb9_b4b686e58d3frow4_col7,#T_eae82658_ca81_11eb_bcb9_b4b686e58d3frow10_col14,#T_eae82658_ca81_11eb_bcb9_b4b686e58d3frow11_col7{\n",
       "            background-color:  #d5d5e8;\n",
       "            color:  #000000;\n",
       "        }#T_eae82658_ca81_11eb_bcb9_b4b686e58d3frow4_col8,#T_eae82658_ca81_11eb_bcb9_b4b686e58d3frow8_col9{\n",
       "            background-color:  #4094c3;\n",
       "            color:  #000000;\n",
       "        }#T_eae82658_ca81_11eb_bcb9_b4b686e58d3frow4_col9{\n",
       "            background-color:  #83afd3;\n",
       "            color:  #000000;\n",
       "        }#T_eae82658_ca81_11eb_bcb9_b4b686e58d3frow4_col10{\n",
       "            background-color:  #60a1ca;\n",
       "            color:  #000000;\n",
       "        }#T_eae82658_ca81_11eb_bcb9_b4b686e58d3frow4_col12{\n",
       "            background-color:  #f1ebf4;\n",
       "            color:  #000000;\n",
       "        }#T_eae82658_ca81_11eb_bcb9_b4b686e58d3frow5_col0{\n",
       "            background-color:  #acc0dd;\n",
       "            color:  #000000;\n",
       "        }#T_eae82658_ca81_11eb_bcb9_b4b686e58d3frow5_col1,#T_eae82658_ca81_11eb_bcb9_b4b686e58d3frow5_col7,#T_eae82658_ca81_11eb_bcb9_b4b686e58d3frow10_col1,#T_eae82658_ca81_11eb_bcb9_b4b686e58d3frow13_col4{\n",
       "            background-color:  #dcdaeb;\n",
       "            color:  #000000;\n",
       "        }#T_eae82658_ca81_11eb_bcb9_b4b686e58d3frow5_col8{\n",
       "            background-color:  #4295c3;\n",
       "            color:  #000000;\n",
       "        }#T_eae82658_ca81_11eb_bcb9_b4b686e58d3frow5_col9{\n",
       "            background-color:  #84b0d3;\n",
       "            color:  #000000;\n",
       "        }#T_eae82658_ca81_11eb_bcb9_b4b686e58d3frow5_col10{\n",
       "            background-color:  #62a2cb;\n",
       "            color:  #000000;\n",
       "        }#T_eae82658_ca81_11eb_bcb9_b4b686e58d3frow5_col12,#T_eae82658_ca81_11eb_bcb9_b4b686e58d3frow6_col12,#T_eae82658_ca81_11eb_bcb9_b4b686e58d3frow12_col5{\n",
       "            background-color:  #f1ebf5;\n",
       "            color:  #000000;\n",
       "        }#T_eae82658_ca81_11eb_bcb9_b4b686e58d3frow5_col13,#T_eae82658_ca81_11eb_bcb9_b4b686e58d3frow7_col8{\n",
       "            background-color:  #b7c5df;\n",
       "            color:  #000000;\n",
       "        }#T_eae82658_ca81_11eb_bcb9_b4b686e58d3frow6_col0{\n",
       "            background-color:  #c1cae2;\n",
       "            color:  #000000;\n",
       "        }#T_eae82658_ca81_11eb_bcb9_b4b686e58d3frow6_col2{\n",
       "            background-color:  #d4d4e8;\n",
       "            color:  #000000;\n",
       "        }#T_eae82658_ca81_11eb_bcb9_b4b686e58d3frow6_col3{\n",
       "            background-color:  #7dacd1;\n",
       "            color:  #000000;\n",
       "        }#T_eae82658_ca81_11eb_bcb9_b4b686e58d3frow6_col5,#T_eae82658_ca81_11eb_bcb9_b4b686e58d3frow14_col5{\n",
       "            background-color:  #fdf5fa;\n",
       "            color:  #000000;\n",
       "        }#T_eae82658_ca81_11eb_bcb9_b4b686e58d3frow7_col9,#T_eae82658_ca81_11eb_bcb9_b4b686e58d3frow12_col10{\n",
       "            background-color:  #c5cce3;\n",
       "            color:  #000000;\n",
       "        }#T_eae82658_ca81_11eb_bcb9_b4b686e58d3frow7_col10,#T_eae82658_ca81_11eb_bcb9_b4b686e58d3frow9_col11,#T_eae82658_ca81_11eb_bcb9_b4b686e58d3frow10_col7{\n",
       "            background-color:  #b9c6e0;\n",
       "            color:  #000000;\n",
       "        }#T_eae82658_ca81_11eb_bcb9_b4b686e58d3frow7_col12{\n",
       "            background-color:  #faf2f8;\n",
       "            color:  #000000;\n",
       "        }#T_eae82658_ca81_11eb_bcb9_b4b686e58d3frow7_col13,#T_eae82658_ca81_11eb_bcb9_b4b686e58d3frow9_col2{\n",
       "            background-color:  #b4c4df;\n",
       "            color:  #000000;\n",
       "        }#T_eae82658_ca81_11eb_bcb9_b4b686e58d3frow7_col14{\n",
       "            background-color:  #dad9ea;\n",
       "            color:  #000000;\n",
       "        }#T_eae82658_ca81_11eb_bcb9_b4b686e58d3frow8_col4{\n",
       "            background-color:  #75a9cf;\n",
       "            color:  #000000;\n",
       "        }#T_eae82658_ca81_11eb_bcb9_b4b686e58d3frow8_col5{\n",
       "            background-color:  #78abd0;\n",
       "            color:  #000000;\n",
       "        }#T_eae82658_ca81_11eb_bcb9_b4b686e58d3frow8_col7,#T_eae82658_ca81_11eb_bcb9_b4b686e58d3frow9_col7{\n",
       "            background-color:  #bcc7e1;\n",
       "            color:  #000000;\n",
       "        }#T_eae82658_ca81_11eb_bcb9_b4b686e58d3frow8_col10{\n",
       "            background-color:  #056dac;\n",
       "            color:  #f1f1f1;\n",
       "        }#T_eae82658_ca81_11eb_bcb9_b4b686e58d3frow8_col13{\n",
       "            background-color:  #86b0d3;\n",
       "            color:  #000000;\n",
       "        }#T_eae82658_ca81_11eb_bcb9_b4b686e58d3frow8_col14,#T_eae82658_ca81_11eb_bcb9_b4b686e58d3frow10_col11{\n",
       "            background-color:  #bbc7e0;\n",
       "            color:  #000000;\n",
       "        }#T_eae82658_ca81_11eb_bcb9_b4b686e58d3frow9_col0,#T_eae82658_ca81_11eb_bcb9_b4b686e58d3frow10_col0{\n",
       "            background-color:  #c9cee4;\n",
       "            color:  #000000;\n",
       "        }#T_eae82658_ca81_11eb_bcb9_b4b686e58d3frow9_col1{\n",
       "            background-color:  #e0dded;\n",
       "            color:  #000000;\n",
       "        }#T_eae82658_ca81_11eb_bcb9_b4b686e58d3frow9_col4{\n",
       "            background-color:  #abbfdc;\n",
       "            color:  #000000;\n",
       "        }#T_eae82658_ca81_11eb_bcb9_b4b686e58d3frow9_col8{\n",
       "            background-color:  #358fc0;\n",
       "            color:  #000000;\n",
       "        }#T_eae82658_ca81_11eb_bcb9_b4b686e58d3frow9_col10,#T_eae82658_ca81_11eb_bcb9_b4b686e58d3frow10_col9{\n",
       "            background-color:  #023d60;\n",
       "            color:  #f1f1f1;\n",
       "        }#T_eae82658_ca81_11eb_bcb9_b4b686e58d3frow9_col13{\n",
       "            background-color:  #6da6cd;\n",
       "            color:  #000000;\n",
       "        }#T_eae82658_ca81_11eb_bcb9_b4b686e58d3frow10_col3{\n",
       "            background-color:  #fef6fb;\n",
       "            color:  #000000;\n",
       "        }#T_eae82658_ca81_11eb_bcb9_b4b686e58d3frow10_col4{\n",
       "            background-color:  #8fb4d6;\n",
       "            color:  #000000;\n",
       "        }#T_eae82658_ca81_11eb_bcb9_b4b686e58d3frow10_col5{\n",
       "            background-color:  #93b5d6;\n",
       "            color:  #000000;\n",
       "        }#T_eae82658_ca81_11eb_bcb9_b4b686e58d3frow10_col8{\n",
       "            background-color:  #056caa;\n",
       "            color:  #f1f1f1;\n",
       "        }#T_eae82658_ca81_11eb_bcb9_b4b686e58d3frow10_col12,#T_eae82658_ca81_11eb_bcb9_b4b686e58d3frow11_col3{\n",
       "            background-color:  #efe9f3;\n",
       "            color:  #000000;\n",
       "        }#T_eae82658_ca81_11eb_bcb9_b4b686e58d3frow10_col13{\n",
       "            background-color:  #65a3cb;\n",
       "            color:  #000000;\n",
       "        }#T_eae82658_ca81_11eb_bcb9_b4b686e58d3frow11_col2{\n",
       "            background-color:  #d2d3e7;\n",
       "            color:  #000000;\n",
       "        }#T_eae82658_ca81_11eb_bcb9_b4b686e58d3frow11_col4{\n",
       "            background-color:  #ede8f3;\n",
       "            color:  #000000;\n",
       "        }#T_eae82658_ca81_11eb_bcb9_b4b686e58d3frow11_col5,#T_eae82658_ca81_11eb_bcb9_b4b686e58d3frow12_col3{\n",
       "            background-color:  #eee9f3;\n",
       "            color:  #000000;\n",
       "        }#T_eae82658_ca81_11eb_bcb9_b4b686e58d3frow11_col9{\n",
       "            background-color:  #94b6d7;\n",
       "            color:  #000000;\n",
       "        }#T_eae82658_ca81_11eb_bcb9_b4b686e58d3frow11_col10,#T_eae82658_ca81_11eb_bcb9_b4b686e58d3frow12_col0{\n",
       "            background-color:  #8cb3d5;\n",
       "            color:  #000000;\n",
       "        }#T_eae82658_ca81_11eb_bcb9_b4b686e58d3frow12_col4,#T_eae82658_ca81_11eb_bcb9_b4b686e58d3frow13_col3{\n",
       "            background-color:  #f0eaf4;\n",
       "            color:  #000000;\n",
       "        }#T_eae82658_ca81_11eb_bcb9_b4b686e58d3frow12_col6{\n",
       "            background-color:  #c4cbe3;\n",
       "            color:  #000000;\n",
       "        }#T_eae82658_ca81_11eb_bcb9_b4b686e58d3frow13_col2,#T_eae82658_ca81_11eb_bcb9_b4b686e58d3frow14_col10{\n",
       "            background-color:  #d2d2e7;\n",
       "            color:  #000000;\n",
       "        }#T_eae82658_ca81_11eb_bcb9_b4b686e58d3frow13_col5,#T_eae82658_ca81_11eb_bcb9_b4b686e58d3frow14_col9{\n",
       "            background-color:  #dfddec;\n",
       "            color:  #000000;\n",
       "        }#T_eae82658_ca81_11eb_bcb9_b4b686e58d3frow13_col8{\n",
       "            background-color:  #7bacd1;\n",
       "            color:  #000000;\n",
       "        }#T_eae82658_ca81_11eb_bcb9_b4b686e58d3frow13_col9{\n",
       "            background-color:  #6fa7ce;\n",
       "            color:  #000000;\n",
       "        }#T_eae82658_ca81_11eb_bcb9_b4b686e58d3frow13_col10{\n",
       "            background-color:  #5ea0ca;\n",
       "            color:  #000000;\n",
       "        }#T_eae82658_ca81_11eb_bcb9_b4b686e58d3frow14_col8{\n",
       "            background-color:  #b0c2de;\n",
       "            color:  #000000;\n",
       "        }</style><table id=\"T_eae82658_ca81_11eb_bcb9_b4b686e58d3f\" ><thead>    <tr>        <th class=\"blank level0\" ></th>        <th class=\"col_heading level0 col0\" >season</th>        <th class=\"col_heading level0 col1\" >holiday</th>        <th class=\"col_heading level0 col2\" >workingday</th>        <th class=\"col_heading level0 col3\" >weather</th>        <th class=\"col_heading level0 col4\" >temp</th>        <th class=\"col_heading level0 col5\" >atemp</th>        <th class=\"col_heading level0 col6\" >humidity</th>        <th class=\"col_heading level0 col7\" >windspeed</th>        <th class=\"col_heading level0 col8\" >casual</th>        <th class=\"col_heading level0 col9\" >registered</th>        <th class=\"col_heading level0 col10\" >count</th>        <th class=\"col_heading level0 col11\" >year</th>        <th class=\"col_heading level0 col12\" >month</th>        <th class=\"col_heading level0 col13\" >hour</th>        <th class=\"col_heading level0 col14\" >weekday</th>    </tr></thead><tbody>\n",
       "                <tr>\n",
       "                        <th id=\"T_eae82658_ca81_11eb_bcb9_b4b686e58d3flevel0_row0\" class=\"row_heading level0 row0\" >season</th>\n",
       "                        <td id=\"T_eae82658_ca81_11eb_bcb9_b4b686e58d3frow0_col0\" class=\"data row0 col0\" >1.0</td>\n",
       "                        <td id=\"T_eae82658_ca81_11eb_bcb9_b4b686e58d3frow0_col1\" class=\"data row0 col1\" >0.0</td>\n",
       "                        <td id=\"T_eae82658_ca81_11eb_bcb9_b4b686e58d3frow0_col2\" class=\"data row0 col2\" >-0.0</td>\n",
       "                        <td id=\"T_eae82658_ca81_11eb_bcb9_b4b686e58d3frow0_col3\" class=\"data row0 col3\" >0.0</td>\n",
       "                        <td id=\"T_eae82658_ca81_11eb_bcb9_b4b686e58d3frow0_col4\" class=\"data row0 col4\" >0.3</td>\n",
       "                        <td id=\"T_eae82658_ca81_11eb_bcb9_b4b686e58d3frow0_col5\" class=\"data row0 col5\" >0.3</td>\n",
       "                        <td id=\"T_eae82658_ca81_11eb_bcb9_b4b686e58d3frow0_col6\" class=\"data row0 col6\" >0.2</td>\n",
       "                        <td id=\"T_eae82658_ca81_11eb_bcb9_b4b686e58d3frow0_col7\" class=\"data row0 col7\" >-0.1</td>\n",
       "                        <td id=\"T_eae82658_ca81_11eb_bcb9_b4b686e58d3frow0_col8\" class=\"data row0 col8\" >0.1</td>\n",
       "                        <td id=\"T_eae82658_ca81_11eb_bcb9_b4b686e58d3frow0_col9\" class=\"data row0 col9\" >0.2</td>\n",
       "                        <td id=\"T_eae82658_ca81_11eb_bcb9_b4b686e58d3frow0_col10\" class=\"data row0 col10\" >0.2</td>\n",
       "                        <td id=\"T_eae82658_ca81_11eb_bcb9_b4b686e58d3frow0_col11\" class=\"data row0 col11\" >-0.0</td>\n",
       "                        <td id=\"T_eae82658_ca81_11eb_bcb9_b4b686e58d3frow0_col12\" class=\"data row0 col12\" >0.4</td>\n",
       "                        <td id=\"T_eae82658_ca81_11eb_bcb9_b4b686e58d3frow0_col13\" class=\"data row0 col13\" >-0.0</td>\n",
       "                        <td id=\"T_eae82658_ca81_11eb_bcb9_b4b686e58d3frow0_col14\" class=\"data row0 col14\" >-0.0</td>\n",
       "            </tr>\n",
       "            <tr>\n",
       "                        <th id=\"T_eae82658_ca81_11eb_bcb9_b4b686e58d3flevel0_row1\" class=\"row_heading level0 row1\" >holiday</th>\n",
       "                        <td id=\"T_eae82658_ca81_11eb_bcb9_b4b686e58d3frow1_col0\" class=\"data row1 col0\" >0.0</td>\n",
       "                        <td id=\"T_eae82658_ca81_11eb_bcb9_b4b686e58d3frow1_col1\" class=\"data row1 col1\" >1.0</td>\n",
       "                        <td id=\"T_eae82658_ca81_11eb_bcb9_b4b686e58d3frow1_col2\" class=\"data row1 col2\" >-0.3</td>\n",
       "                        <td id=\"T_eae82658_ca81_11eb_bcb9_b4b686e58d3frow1_col3\" class=\"data row1 col3\" >-0.0</td>\n",
       "                        <td id=\"T_eae82658_ca81_11eb_bcb9_b4b686e58d3frow1_col4\" class=\"data row1 col4\" >0.0</td>\n",
       "                        <td id=\"T_eae82658_ca81_11eb_bcb9_b4b686e58d3frow1_col5\" class=\"data row1 col5\" >-0.0</td>\n",
       "                        <td id=\"T_eae82658_ca81_11eb_bcb9_b4b686e58d3frow1_col6\" class=\"data row1 col6\" >0.0</td>\n",
       "                        <td id=\"T_eae82658_ca81_11eb_bcb9_b4b686e58d3frow1_col7\" class=\"data row1 col7\" >0.0</td>\n",
       "                        <td id=\"T_eae82658_ca81_11eb_bcb9_b4b686e58d3frow1_col8\" class=\"data row1 col8\" >0.0</td>\n",
       "                        <td id=\"T_eae82658_ca81_11eb_bcb9_b4b686e58d3frow1_col9\" class=\"data row1 col9\" >-0.0</td>\n",
       "                        <td id=\"T_eae82658_ca81_11eb_bcb9_b4b686e58d3frow1_col10\" class=\"data row1 col10\" >-0.0</td>\n",
       "                        <td id=\"T_eae82658_ca81_11eb_bcb9_b4b686e58d3frow1_col11\" class=\"data row1 col11\" >0.0</td>\n",
       "                        <td id=\"T_eae82658_ca81_11eb_bcb9_b4b686e58d3frow1_col12\" class=\"data row1 col12\" >-0.1</td>\n",
       "                        <td id=\"T_eae82658_ca81_11eb_bcb9_b4b686e58d3frow1_col13\" class=\"data row1 col13\" >-0.0</td>\n",
       "                        <td id=\"T_eae82658_ca81_11eb_bcb9_b4b686e58d3frow1_col14\" class=\"data row1 col14\" >-0.1</td>\n",
       "            </tr>\n",
       "            <tr>\n",
       "                        <th id=\"T_eae82658_ca81_11eb_bcb9_b4b686e58d3flevel0_row2\" class=\"row_heading level0 row2\" >workingday</th>\n",
       "                        <td id=\"T_eae82658_ca81_11eb_bcb9_b4b686e58d3frow2_col0\" class=\"data row2 col0\" >-0.0</td>\n",
       "                        <td id=\"T_eae82658_ca81_11eb_bcb9_b4b686e58d3frow2_col1\" class=\"data row2 col1\" >-0.3</td>\n",
       "                        <td id=\"T_eae82658_ca81_11eb_bcb9_b4b686e58d3frow2_col2\" class=\"data row2 col2\" >1.0</td>\n",
       "                        <td id=\"T_eae82658_ca81_11eb_bcb9_b4b686e58d3frow2_col3\" class=\"data row2 col3\" >0.0</td>\n",
       "                        <td id=\"T_eae82658_ca81_11eb_bcb9_b4b686e58d3frow2_col4\" class=\"data row2 col4\" >0.0</td>\n",
       "                        <td id=\"T_eae82658_ca81_11eb_bcb9_b4b686e58d3frow2_col5\" class=\"data row2 col5\" >0.0</td>\n",
       "                        <td id=\"T_eae82658_ca81_11eb_bcb9_b4b686e58d3frow2_col6\" class=\"data row2 col6\" >-0.0</td>\n",
       "                        <td id=\"T_eae82658_ca81_11eb_bcb9_b4b686e58d3frow2_col7\" class=\"data row2 col7\" >0.0</td>\n",
       "                        <td id=\"T_eae82658_ca81_11eb_bcb9_b4b686e58d3frow2_col8\" class=\"data row2 col8\" >-0.3</td>\n",
       "                        <td id=\"T_eae82658_ca81_11eb_bcb9_b4b686e58d3frow2_col9\" class=\"data row2 col9\" >0.1</td>\n",
       "                        <td id=\"T_eae82658_ca81_11eb_bcb9_b4b686e58d3frow2_col10\" class=\"data row2 col10\" >0.0</td>\n",
       "                        <td id=\"T_eae82658_ca81_11eb_bcb9_b4b686e58d3frow2_col11\" class=\"data row2 col11\" >-0.0</td>\n",
       "                        <td id=\"T_eae82658_ca81_11eb_bcb9_b4b686e58d3frow2_col12\" class=\"data row2 col12\" >0.0</td>\n",
       "                        <td id=\"T_eae82658_ca81_11eb_bcb9_b4b686e58d3frow2_col13\" class=\"data row2 col13\" >0.0</td>\n",
       "                        <td id=\"T_eae82658_ca81_11eb_bcb9_b4b686e58d3frow2_col14\" class=\"data row2 col14\" >-0.3</td>\n",
       "            </tr>\n",
       "            <tr>\n",
       "                        <th id=\"T_eae82658_ca81_11eb_bcb9_b4b686e58d3flevel0_row3\" class=\"row_heading level0 row3\" >weather</th>\n",
       "                        <td id=\"T_eae82658_ca81_11eb_bcb9_b4b686e58d3frow3_col0\" class=\"data row3 col0\" >0.0</td>\n",
       "                        <td id=\"T_eae82658_ca81_11eb_bcb9_b4b686e58d3frow3_col1\" class=\"data row3 col1\" >-0.0</td>\n",
       "                        <td id=\"T_eae82658_ca81_11eb_bcb9_b4b686e58d3frow3_col2\" class=\"data row3 col2\" >0.0</td>\n",
       "                        <td id=\"T_eae82658_ca81_11eb_bcb9_b4b686e58d3frow3_col3\" class=\"data row3 col3\" >1.0</td>\n",
       "                        <td id=\"T_eae82658_ca81_11eb_bcb9_b4b686e58d3frow3_col4\" class=\"data row3 col4\" >-0.1</td>\n",
       "                        <td id=\"T_eae82658_ca81_11eb_bcb9_b4b686e58d3frow3_col5\" class=\"data row3 col5\" >-0.1</td>\n",
       "                        <td id=\"T_eae82658_ca81_11eb_bcb9_b4b686e58d3frow3_col6\" class=\"data row3 col6\" >0.4</td>\n",
       "                        <td id=\"T_eae82658_ca81_11eb_bcb9_b4b686e58d3frow3_col7\" class=\"data row3 col7\" >0.0</td>\n",
       "                        <td id=\"T_eae82658_ca81_11eb_bcb9_b4b686e58d3frow3_col8\" class=\"data row3 col8\" >-0.1</td>\n",
       "                        <td id=\"T_eae82658_ca81_11eb_bcb9_b4b686e58d3frow3_col9\" class=\"data row3 col9\" >-0.1</td>\n",
       "                        <td id=\"T_eae82658_ca81_11eb_bcb9_b4b686e58d3frow3_col10\" class=\"data row3 col10\" >-0.1</td>\n",
       "                        <td id=\"T_eae82658_ca81_11eb_bcb9_b4b686e58d3frow3_col11\" class=\"data row3 col11\" >-0.0</td>\n",
       "                        <td id=\"T_eae82658_ca81_11eb_bcb9_b4b686e58d3frow3_col12\" class=\"data row3 col12\" >-0.0</td>\n",
       "                        <td id=\"T_eae82658_ca81_11eb_bcb9_b4b686e58d3frow3_col13\" class=\"data row3 col13\" >-0.0</td>\n",
       "                        <td id=\"T_eae82658_ca81_11eb_bcb9_b4b686e58d3frow3_col14\" class=\"data row3 col14\" >-0.0</td>\n",
       "            </tr>\n",
       "            <tr>\n",
       "                        <th id=\"T_eae82658_ca81_11eb_bcb9_b4b686e58d3flevel0_row4\" class=\"row_heading level0 row4\" >temp</th>\n",
       "                        <td id=\"T_eae82658_ca81_11eb_bcb9_b4b686e58d3frow4_col0\" class=\"data row4 col0\" >0.3</td>\n",
       "                        <td id=\"T_eae82658_ca81_11eb_bcb9_b4b686e58d3frow4_col1\" class=\"data row4 col1\" >0.0</td>\n",
       "                        <td id=\"T_eae82658_ca81_11eb_bcb9_b4b686e58d3frow4_col2\" class=\"data row4 col2\" >0.0</td>\n",
       "                        <td id=\"T_eae82658_ca81_11eb_bcb9_b4b686e58d3frow4_col3\" class=\"data row4 col3\" >-0.1</td>\n",
       "                        <td id=\"T_eae82658_ca81_11eb_bcb9_b4b686e58d3frow4_col4\" class=\"data row4 col4\" >1.0</td>\n",
       "                        <td id=\"T_eae82658_ca81_11eb_bcb9_b4b686e58d3frow4_col5\" class=\"data row4 col5\" >1.0</td>\n",
       "                        <td id=\"T_eae82658_ca81_11eb_bcb9_b4b686e58d3frow4_col6\" class=\"data row4 col6\" >-0.1</td>\n",
       "                        <td id=\"T_eae82658_ca81_11eb_bcb9_b4b686e58d3frow4_col7\" class=\"data row4 col7\" >-0.0</td>\n",
       "                        <td id=\"T_eae82658_ca81_11eb_bcb9_b4b686e58d3frow4_col8\" class=\"data row4 col8\" >0.5</td>\n",
       "                        <td id=\"T_eae82658_ca81_11eb_bcb9_b4b686e58d3frow4_col9\" class=\"data row4 col9\" >0.3</td>\n",
       "                        <td id=\"T_eae82658_ca81_11eb_bcb9_b4b686e58d3frow4_col10\" class=\"data row4 col10\" >0.4</td>\n",
       "                        <td id=\"T_eae82658_ca81_11eb_bcb9_b4b686e58d3frow4_col11\" class=\"data row4 col11\" >0.1</td>\n",
       "                        <td id=\"T_eae82658_ca81_11eb_bcb9_b4b686e58d3frow4_col12\" class=\"data row4 col12\" >0.0</td>\n",
       "                        <td id=\"T_eae82658_ca81_11eb_bcb9_b4b686e58d3frow4_col13\" class=\"data row4 col13\" >0.1</td>\n",
       "                        <td id=\"T_eae82658_ca81_11eb_bcb9_b4b686e58d3frow4_col14\" class=\"data row4 col14\" >-0.0</td>\n",
       "            </tr>\n",
       "            <tr>\n",
       "                        <th id=\"T_eae82658_ca81_11eb_bcb9_b4b686e58d3flevel0_row5\" class=\"row_heading level0 row5\" >atemp</th>\n",
       "                        <td id=\"T_eae82658_ca81_11eb_bcb9_b4b686e58d3frow5_col0\" class=\"data row5 col0\" >0.3</td>\n",
       "                        <td id=\"T_eae82658_ca81_11eb_bcb9_b4b686e58d3frow5_col1\" class=\"data row5 col1\" >-0.0</td>\n",
       "                        <td id=\"T_eae82658_ca81_11eb_bcb9_b4b686e58d3frow5_col2\" class=\"data row5 col2\" >0.0</td>\n",
       "                        <td id=\"T_eae82658_ca81_11eb_bcb9_b4b686e58d3frow5_col3\" class=\"data row5 col3\" >-0.1</td>\n",
       "                        <td id=\"T_eae82658_ca81_11eb_bcb9_b4b686e58d3frow5_col4\" class=\"data row5 col4\" >1.0</td>\n",
       "                        <td id=\"T_eae82658_ca81_11eb_bcb9_b4b686e58d3frow5_col5\" class=\"data row5 col5\" >1.0</td>\n",
       "                        <td id=\"T_eae82658_ca81_11eb_bcb9_b4b686e58d3frow5_col6\" class=\"data row5 col6\" >-0.0</td>\n",
       "                        <td id=\"T_eae82658_ca81_11eb_bcb9_b4b686e58d3frow5_col7\" class=\"data row5 col7\" >-0.1</td>\n",
       "                        <td id=\"T_eae82658_ca81_11eb_bcb9_b4b686e58d3frow5_col8\" class=\"data row5 col8\" >0.5</td>\n",
       "                        <td id=\"T_eae82658_ca81_11eb_bcb9_b4b686e58d3frow5_col9\" class=\"data row5 col9\" >0.3</td>\n",
       "                        <td id=\"T_eae82658_ca81_11eb_bcb9_b4b686e58d3frow5_col10\" class=\"data row5 col10\" >0.4</td>\n",
       "                        <td id=\"T_eae82658_ca81_11eb_bcb9_b4b686e58d3frow5_col11\" class=\"data row5 col11\" >0.1</td>\n",
       "                        <td id=\"T_eae82658_ca81_11eb_bcb9_b4b686e58d3frow5_col12\" class=\"data row5 col12\" >0.0</td>\n",
       "                        <td id=\"T_eae82658_ca81_11eb_bcb9_b4b686e58d3frow5_col13\" class=\"data row5 col13\" >0.1</td>\n",
       "                        <td id=\"T_eae82658_ca81_11eb_bcb9_b4b686e58d3frow5_col14\" class=\"data row5 col14\" >-0.0</td>\n",
       "            </tr>\n",
       "            <tr>\n",
       "                        <th id=\"T_eae82658_ca81_11eb_bcb9_b4b686e58d3flevel0_row6\" class=\"row_heading level0 row6\" >humidity</th>\n",
       "                        <td id=\"T_eae82658_ca81_11eb_bcb9_b4b686e58d3frow6_col0\" class=\"data row6 col0\" >0.2</td>\n",
       "                        <td id=\"T_eae82658_ca81_11eb_bcb9_b4b686e58d3frow6_col1\" class=\"data row6 col1\" >0.0</td>\n",
       "                        <td id=\"T_eae82658_ca81_11eb_bcb9_b4b686e58d3frow6_col2\" class=\"data row6 col2\" >-0.0</td>\n",
       "                        <td id=\"T_eae82658_ca81_11eb_bcb9_b4b686e58d3frow6_col3\" class=\"data row6 col3\" >0.4</td>\n",
       "                        <td id=\"T_eae82658_ca81_11eb_bcb9_b4b686e58d3frow6_col4\" class=\"data row6 col4\" >-0.1</td>\n",
       "                        <td id=\"T_eae82658_ca81_11eb_bcb9_b4b686e58d3frow6_col5\" class=\"data row6 col5\" >-0.0</td>\n",
       "                        <td id=\"T_eae82658_ca81_11eb_bcb9_b4b686e58d3frow6_col6\" class=\"data row6 col6\" >1.0</td>\n",
       "                        <td id=\"T_eae82658_ca81_11eb_bcb9_b4b686e58d3frow6_col7\" class=\"data row6 col7\" >-0.3</td>\n",
       "                        <td id=\"T_eae82658_ca81_11eb_bcb9_b4b686e58d3frow6_col8\" class=\"data row6 col8\" >-0.3</td>\n",
       "                        <td id=\"T_eae82658_ca81_11eb_bcb9_b4b686e58d3frow6_col9\" class=\"data row6 col9\" >-0.3</td>\n",
       "                        <td id=\"T_eae82658_ca81_11eb_bcb9_b4b686e58d3frow6_col10\" class=\"data row6 col10\" >-0.3</td>\n",
       "                        <td id=\"T_eae82658_ca81_11eb_bcb9_b4b686e58d3frow6_col11\" class=\"data row6 col11\" >-0.1</td>\n",
       "                        <td id=\"T_eae82658_ca81_11eb_bcb9_b4b686e58d3frow6_col12\" class=\"data row6 col12\" >0.0</td>\n",
       "                        <td id=\"T_eae82658_ca81_11eb_bcb9_b4b686e58d3frow6_col13\" class=\"data row6 col13\" >-0.3</td>\n",
       "                        <td id=\"T_eae82658_ca81_11eb_bcb9_b4b686e58d3frow6_col14\" class=\"data row6 col14\" >-0.0</td>\n",
       "            </tr>\n",
       "            <tr>\n",
       "                        <th id=\"T_eae82658_ca81_11eb_bcb9_b4b686e58d3flevel0_row7\" class=\"row_heading level0 row7\" >windspeed</th>\n",
       "                        <td id=\"T_eae82658_ca81_11eb_bcb9_b4b686e58d3frow7_col0\" class=\"data row7 col0\" >-0.1</td>\n",
       "                        <td id=\"T_eae82658_ca81_11eb_bcb9_b4b686e58d3frow7_col1\" class=\"data row7 col1\" >0.0</td>\n",
       "                        <td id=\"T_eae82658_ca81_11eb_bcb9_b4b686e58d3frow7_col2\" class=\"data row7 col2\" >0.0</td>\n",
       "                        <td id=\"T_eae82658_ca81_11eb_bcb9_b4b686e58d3frow7_col3\" class=\"data row7 col3\" >0.0</td>\n",
       "                        <td id=\"T_eae82658_ca81_11eb_bcb9_b4b686e58d3frow7_col4\" class=\"data row7 col4\" >-0.0</td>\n",
       "                        <td id=\"T_eae82658_ca81_11eb_bcb9_b4b686e58d3frow7_col5\" class=\"data row7 col5\" >-0.1</td>\n",
       "                        <td id=\"T_eae82658_ca81_11eb_bcb9_b4b686e58d3frow7_col6\" class=\"data row7 col6\" >-0.3</td>\n",
       "                        <td id=\"T_eae82658_ca81_11eb_bcb9_b4b686e58d3frow7_col7\" class=\"data row7 col7\" >1.0</td>\n",
       "                        <td id=\"T_eae82658_ca81_11eb_bcb9_b4b686e58d3frow7_col8\" class=\"data row7 col8\" >0.1</td>\n",
       "                        <td id=\"T_eae82658_ca81_11eb_bcb9_b4b686e58d3frow7_col9\" class=\"data row7 col9\" >0.1</td>\n",
       "                        <td id=\"T_eae82658_ca81_11eb_bcb9_b4b686e58d3frow7_col10\" class=\"data row7 col10\" >0.1</td>\n",
       "                        <td id=\"T_eae82658_ca81_11eb_bcb9_b4b686e58d3frow7_col11\" class=\"data row7 col11\" >-0.0</td>\n",
       "                        <td id=\"T_eae82658_ca81_11eb_bcb9_b4b686e58d3frow7_col12\" class=\"data row7 col12\" >-0.0</td>\n",
       "                        <td id=\"T_eae82658_ca81_11eb_bcb9_b4b686e58d3frow7_col13\" class=\"data row7 col13\" >0.1</td>\n",
       "                        <td id=\"T_eae82658_ca81_11eb_bcb9_b4b686e58d3frow7_col14\" class=\"data row7 col14\" >-0.0</td>\n",
       "            </tr>\n",
       "            <tr>\n",
       "                        <th id=\"T_eae82658_ca81_11eb_bcb9_b4b686e58d3flevel0_row8\" class=\"row_heading level0 row8\" >casual</th>\n",
       "                        <td id=\"T_eae82658_ca81_11eb_bcb9_b4b686e58d3frow8_col0\" class=\"data row8 col0\" >0.1</td>\n",
       "                        <td id=\"T_eae82658_ca81_11eb_bcb9_b4b686e58d3frow8_col1\" class=\"data row8 col1\" >0.0</td>\n",
       "                        <td id=\"T_eae82658_ca81_11eb_bcb9_b4b686e58d3frow8_col2\" class=\"data row8 col2\" >-0.3</td>\n",
       "                        <td id=\"T_eae82658_ca81_11eb_bcb9_b4b686e58d3frow8_col3\" class=\"data row8 col3\" >-0.1</td>\n",
       "                        <td id=\"T_eae82658_ca81_11eb_bcb9_b4b686e58d3frow8_col4\" class=\"data row8 col4\" >0.5</td>\n",
       "                        <td id=\"T_eae82658_ca81_11eb_bcb9_b4b686e58d3frow8_col5\" class=\"data row8 col5\" >0.5</td>\n",
       "                        <td id=\"T_eae82658_ca81_11eb_bcb9_b4b686e58d3frow8_col6\" class=\"data row8 col6\" >-0.3</td>\n",
       "                        <td id=\"T_eae82658_ca81_11eb_bcb9_b4b686e58d3frow8_col7\" class=\"data row8 col7\" >0.1</td>\n",
       "                        <td id=\"T_eae82658_ca81_11eb_bcb9_b4b686e58d3frow8_col8\" class=\"data row8 col8\" >1.0</td>\n",
       "                        <td id=\"T_eae82658_ca81_11eb_bcb9_b4b686e58d3frow8_col9\" class=\"data row8 col9\" >0.5</td>\n",
       "                        <td id=\"T_eae82658_ca81_11eb_bcb9_b4b686e58d3frow8_col10\" class=\"data row8 col10\" >0.7</td>\n",
       "                        <td id=\"T_eae82658_ca81_11eb_bcb9_b4b686e58d3frow8_col11\" class=\"data row8 col11\" >0.1</td>\n",
       "                        <td id=\"T_eae82658_ca81_11eb_bcb9_b4b686e58d3frow8_col12\" class=\"data row8 col12\" >0.0</td>\n",
       "                        <td id=\"T_eae82658_ca81_11eb_bcb9_b4b686e58d3frow8_col13\" class=\"data row8 col13\" >0.3</td>\n",
       "                        <td id=\"T_eae82658_ca81_11eb_bcb9_b4b686e58d3frow8_col14\" class=\"data row8 col14\" >0.1</td>\n",
       "            </tr>\n",
       "            <tr>\n",
       "                        <th id=\"T_eae82658_ca81_11eb_bcb9_b4b686e58d3flevel0_row9\" class=\"row_heading level0 row9\" >registered</th>\n",
       "                        <td id=\"T_eae82658_ca81_11eb_bcb9_b4b686e58d3frow9_col0\" class=\"data row9 col0\" >0.2</td>\n",
       "                        <td id=\"T_eae82658_ca81_11eb_bcb9_b4b686e58d3frow9_col1\" class=\"data row9 col1\" >-0.0</td>\n",
       "                        <td id=\"T_eae82658_ca81_11eb_bcb9_b4b686e58d3frow9_col2\" class=\"data row9 col2\" >0.1</td>\n",
       "                        <td id=\"T_eae82658_ca81_11eb_bcb9_b4b686e58d3frow9_col3\" class=\"data row9 col3\" >-0.1</td>\n",
       "                        <td id=\"T_eae82658_ca81_11eb_bcb9_b4b686e58d3frow9_col4\" class=\"data row9 col4\" >0.3</td>\n",
       "                        <td id=\"T_eae82658_ca81_11eb_bcb9_b4b686e58d3frow9_col5\" class=\"data row9 col5\" >0.3</td>\n",
       "                        <td id=\"T_eae82658_ca81_11eb_bcb9_b4b686e58d3frow9_col6\" class=\"data row9 col6\" >-0.3</td>\n",
       "                        <td id=\"T_eae82658_ca81_11eb_bcb9_b4b686e58d3frow9_col7\" class=\"data row9 col7\" >0.1</td>\n",
       "                        <td id=\"T_eae82658_ca81_11eb_bcb9_b4b686e58d3frow9_col8\" class=\"data row9 col8\" >0.5</td>\n",
       "                        <td id=\"T_eae82658_ca81_11eb_bcb9_b4b686e58d3frow9_col9\" class=\"data row9 col9\" >1.0</td>\n",
       "                        <td id=\"T_eae82658_ca81_11eb_bcb9_b4b686e58d3frow9_col10\" class=\"data row9 col10\" >1.0</td>\n",
       "                        <td id=\"T_eae82658_ca81_11eb_bcb9_b4b686e58d3frow9_col11\" class=\"data row9 col11\" >0.3</td>\n",
       "                        <td id=\"T_eae82658_ca81_11eb_bcb9_b4b686e58d3frow9_col12\" class=\"data row9 col12\" >0.1</td>\n",
       "                        <td id=\"T_eae82658_ca81_11eb_bcb9_b4b686e58d3frow9_col13\" class=\"data row9 col13\" >0.4</td>\n",
       "                        <td id=\"T_eae82658_ca81_11eb_bcb9_b4b686e58d3frow9_col14\" class=\"data row9 col14\" >-0.0</td>\n",
       "            </tr>\n",
       "            <tr>\n",
       "                        <th id=\"T_eae82658_ca81_11eb_bcb9_b4b686e58d3flevel0_row10\" class=\"row_heading level0 row10\" >count</th>\n",
       "                        <td id=\"T_eae82658_ca81_11eb_bcb9_b4b686e58d3frow10_col0\" class=\"data row10 col0\" >0.2</td>\n",
       "                        <td id=\"T_eae82658_ca81_11eb_bcb9_b4b686e58d3frow10_col1\" class=\"data row10 col1\" >-0.0</td>\n",
       "                        <td id=\"T_eae82658_ca81_11eb_bcb9_b4b686e58d3frow10_col2\" class=\"data row10 col2\" >0.0</td>\n",
       "                        <td id=\"T_eae82658_ca81_11eb_bcb9_b4b686e58d3frow10_col3\" class=\"data row10 col3\" >-0.1</td>\n",
       "                        <td id=\"T_eae82658_ca81_11eb_bcb9_b4b686e58d3frow10_col4\" class=\"data row10 col4\" >0.4</td>\n",
       "                        <td id=\"T_eae82658_ca81_11eb_bcb9_b4b686e58d3frow10_col5\" class=\"data row10 col5\" >0.4</td>\n",
       "                        <td id=\"T_eae82658_ca81_11eb_bcb9_b4b686e58d3frow10_col6\" class=\"data row10 col6\" >-0.3</td>\n",
       "                        <td id=\"T_eae82658_ca81_11eb_bcb9_b4b686e58d3frow10_col7\" class=\"data row10 col7\" >0.1</td>\n",
       "                        <td id=\"T_eae82658_ca81_11eb_bcb9_b4b686e58d3frow10_col8\" class=\"data row10 col8\" >0.7</td>\n",
       "                        <td id=\"T_eae82658_ca81_11eb_bcb9_b4b686e58d3frow10_col9\" class=\"data row10 col9\" >1.0</td>\n",
       "                        <td id=\"T_eae82658_ca81_11eb_bcb9_b4b686e58d3frow10_col10\" class=\"data row10 col10\" >1.0</td>\n",
       "                        <td id=\"T_eae82658_ca81_11eb_bcb9_b4b686e58d3frow10_col11\" class=\"data row10 col11\" >0.3</td>\n",
       "                        <td id=\"T_eae82658_ca81_11eb_bcb9_b4b686e58d3frow10_col12\" class=\"data row10 col12\" >0.1</td>\n",
       "                        <td id=\"T_eae82658_ca81_11eb_bcb9_b4b686e58d3frow10_col13\" class=\"data row10 col13\" >0.4</td>\n",
       "                        <td id=\"T_eae82658_ca81_11eb_bcb9_b4b686e58d3frow10_col14\" class=\"data row10 col14\" >0.0</td>\n",
       "            </tr>\n",
       "            <tr>\n",
       "                        <th id=\"T_eae82658_ca81_11eb_bcb9_b4b686e58d3flevel0_row11\" class=\"row_heading level0 row11\" >year</th>\n",
       "                        <td id=\"T_eae82658_ca81_11eb_bcb9_b4b686e58d3frow11_col0\" class=\"data row11 col0\" >-0.0</td>\n",
       "                        <td id=\"T_eae82658_ca81_11eb_bcb9_b4b686e58d3frow11_col1\" class=\"data row11 col1\" >0.0</td>\n",
       "                        <td id=\"T_eae82658_ca81_11eb_bcb9_b4b686e58d3frow11_col2\" class=\"data row11 col2\" >-0.0</td>\n",
       "                        <td id=\"T_eae82658_ca81_11eb_bcb9_b4b686e58d3frow11_col3\" class=\"data row11 col3\" >-0.0</td>\n",
       "                        <td id=\"T_eae82658_ca81_11eb_bcb9_b4b686e58d3frow11_col4\" class=\"data row11 col4\" >0.1</td>\n",
       "                        <td id=\"T_eae82658_ca81_11eb_bcb9_b4b686e58d3frow11_col5\" class=\"data row11 col5\" >0.1</td>\n",
       "                        <td id=\"T_eae82658_ca81_11eb_bcb9_b4b686e58d3frow11_col6\" class=\"data row11 col6\" >-0.1</td>\n",
       "                        <td id=\"T_eae82658_ca81_11eb_bcb9_b4b686e58d3frow11_col7\" class=\"data row11 col7\" >-0.0</td>\n",
       "                        <td id=\"T_eae82658_ca81_11eb_bcb9_b4b686e58d3frow11_col8\" class=\"data row11 col8\" >0.1</td>\n",
       "                        <td id=\"T_eae82658_ca81_11eb_bcb9_b4b686e58d3frow11_col9\" class=\"data row11 col9\" >0.3</td>\n",
       "                        <td id=\"T_eae82658_ca81_11eb_bcb9_b4b686e58d3frow11_col10\" class=\"data row11 col10\" >0.3</td>\n",
       "                        <td id=\"T_eae82658_ca81_11eb_bcb9_b4b686e58d3frow11_col11\" class=\"data row11 col11\" >1.0</td>\n",
       "                        <td id=\"T_eae82658_ca81_11eb_bcb9_b4b686e58d3frow11_col12\" class=\"data row11 col12\" >-0.0</td>\n",
       "                        <td id=\"T_eae82658_ca81_11eb_bcb9_b4b686e58d3frow11_col13\" class=\"data row11 col13\" >-0.0</td>\n",
       "                        <td id=\"T_eae82658_ca81_11eb_bcb9_b4b686e58d3frow11_col14\" class=\"data row11 col14\" >-0.0</td>\n",
       "            </tr>\n",
       "            <tr>\n",
       "                        <th id=\"T_eae82658_ca81_11eb_bcb9_b4b686e58d3flevel0_row12\" class=\"row_heading level0 row12\" >month</th>\n",
       "                        <td id=\"T_eae82658_ca81_11eb_bcb9_b4b686e58d3frow12_col0\" class=\"data row12 col0\" >0.4</td>\n",
       "                        <td id=\"T_eae82658_ca81_11eb_bcb9_b4b686e58d3frow12_col1\" class=\"data row12 col1\" >-0.1</td>\n",
       "                        <td id=\"T_eae82658_ca81_11eb_bcb9_b4b686e58d3frow12_col2\" class=\"data row12 col2\" >0.0</td>\n",
       "                        <td id=\"T_eae82658_ca81_11eb_bcb9_b4b686e58d3frow12_col3\" class=\"data row12 col3\" >-0.0</td>\n",
       "                        <td id=\"T_eae82658_ca81_11eb_bcb9_b4b686e58d3frow12_col4\" class=\"data row12 col4\" >0.0</td>\n",
       "                        <td id=\"T_eae82658_ca81_11eb_bcb9_b4b686e58d3frow12_col5\" class=\"data row12 col5\" >0.0</td>\n",
       "                        <td id=\"T_eae82658_ca81_11eb_bcb9_b4b686e58d3frow12_col6\" class=\"data row12 col6\" >0.0</td>\n",
       "                        <td id=\"T_eae82658_ca81_11eb_bcb9_b4b686e58d3frow12_col7\" class=\"data row12 col7\" >-0.0</td>\n",
       "                        <td id=\"T_eae82658_ca81_11eb_bcb9_b4b686e58d3frow12_col8\" class=\"data row12 col8\" >0.0</td>\n",
       "                        <td id=\"T_eae82658_ca81_11eb_bcb9_b4b686e58d3frow12_col9\" class=\"data row12 col9\" >0.1</td>\n",
       "                        <td id=\"T_eae82658_ca81_11eb_bcb9_b4b686e58d3frow12_col10\" class=\"data row12 col10\" >0.1</td>\n",
       "                        <td id=\"T_eae82658_ca81_11eb_bcb9_b4b686e58d3frow12_col11\" class=\"data row12 col11\" >-0.0</td>\n",
       "                        <td id=\"T_eae82658_ca81_11eb_bcb9_b4b686e58d3frow12_col12\" class=\"data row12 col12\" >1.0</td>\n",
       "                        <td id=\"T_eae82658_ca81_11eb_bcb9_b4b686e58d3frow12_col13\" class=\"data row12 col13\" >-0.0</td>\n",
       "                        <td id=\"T_eae82658_ca81_11eb_bcb9_b4b686e58d3frow12_col14\" class=\"data row12 col14\" >-0.0</td>\n",
       "            </tr>\n",
       "            <tr>\n",
       "                        <th id=\"T_eae82658_ca81_11eb_bcb9_b4b686e58d3flevel0_row13\" class=\"row_heading level0 row13\" >hour</th>\n",
       "                        <td id=\"T_eae82658_ca81_11eb_bcb9_b4b686e58d3frow13_col0\" class=\"data row13 col0\" >-0.0</td>\n",
       "                        <td id=\"T_eae82658_ca81_11eb_bcb9_b4b686e58d3frow13_col1\" class=\"data row13 col1\" >-0.0</td>\n",
       "                        <td id=\"T_eae82658_ca81_11eb_bcb9_b4b686e58d3frow13_col2\" class=\"data row13 col2\" >0.0</td>\n",
       "                        <td id=\"T_eae82658_ca81_11eb_bcb9_b4b686e58d3frow13_col3\" class=\"data row13 col3\" >-0.0</td>\n",
       "                        <td id=\"T_eae82658_ca81_11eb_bcb9_b4b686e58d3frow13_col4\" class=\"data row13 col4\" >0.1</td>\n",
       "                        <td id=\"T_eae82658_ca81_11eb_bcb9_b4b686e58d3frow13_col5\" class=\"data row13 col5\" >0.1</td>\n",
       "                        <td id=\"T_eae82658_ca81_11eb_bcb9_b4b686e58d3frow13_col6\" class=\"data row13 col6\" >-0.3</td>\n",
       "                        <td id=\"T_eae82658_ca81_11eb_bcb9_b4b686e58d3frow13_col7\" class=\"data row13 col7\" >0.1</td>\n",
       "                        <td id=\"T_eae82658_ca81_11eb_bcb9_b4b686e58d3frow13_col8\" class=\"data row13 col8\" >0.3</td>\n",
       "                        <td id=\"T_eae82658_ca81_11eb_bcb9_b4b686e58d3frow13_col9\" class=\"data row13 col9\" >0.4</td>\n",
       "                        <td id=\"T_eae82658_ca81_11eb_bcb9_b4b686e58d3frow13_col10\" class=\"data row13 col10\" >0.4</td>\n",
       "                        <td id=\"T_eae82658_ca81_11eb_bcb9_b4b686e58d3frow13_col11\" class=\"data row13 col11\" >-0.0</td>\n",
       "                        <td id=\"T_eae82658_ca81_11eb_bcb9_b4b686e58d3frow13_col12\" class=\"data row13 col12\" >-0.0</td>\n",
       "                        <td id=\"T_eae82658_ca81_11eb_bcb9_b4b686e58d3frow13_col13\" class=\"data row13 col13\" >1.0</td>\n",
       "                        <td id=\"T_eae82658_ca81_11eb_bcb9_b4b686e58d3frow13_col14\" class=\"data row13 col14\" >-0.0</td>\n",
       "            </tr>\n",
       "            <tr>\n",
       "                        <th id=\"T_eae82658_ca81_11eb_bcb9_b4b686e58d3flevel0_row14\" class=\"row_heading level0 row14\" >weekday</th>\n",
       "                        <td id=\"T_eae82658_ca81_11eb_bcb9_b4b686e58d3frow14_col0\" class=\"data row14 col0\" >-0.0</td>\n",
       "                        <td id=\"T_eae82658_ca81_11eb_bcb9_b4b686e58d3frow14_col1\" class=\"data row14 col1\" >-0.1</td>\n",
       "                        <td id=\"T_eae82658_ca81_11eb_bcb9_b4b686e58d3frow14_col2\" class=\"data row14 col2\" >-0.3</td>\n",
       "                        <td id=\"T_eae82658_ca81_11eb_bcb9_b4b686e58d3frow14_col3\" class=\"data row14 col3\" >-0.0</td>\n",
       "                        <td id=\"T_eae82658_ca81_11eb_bcb9_b4b686e58d3frow14_col4\" class=\"data row14 col4\" >-0.0</td>\n",
       "                        <td id=\"T_eae82658_ca81_11eb_bcb9_b4b686e58d3frow14_col5\" class=\"data row14 col5\" >-0.0</td>\n",
       "                        <td id=\"T_eae82658_ca81_11eb_bcb9_b4b686e58d3frow14_col6\" class=\"data row14 col6\" >-0.0</td>\n",
       "                        <td id=\"T_eae82658_ca81_11eb_bcb9_b4b686e58d3frow14_col7\" class=\"data row14 col7\" >-0.0</td>\n",
       "                        <td id=\"T_eae82658_ca81_11eb_bcb9_b4b686e58d3frow14_col8\" class=\"data row14 col8\" >0.1</td>\n",
       "                        <td id=\"T_eae82658_ca81_11eb_bcb9_b4b686e58d3frow14_col9\" class=\"data row14 col9\" >-0.0</td>\n",
       "                        <td id=\"T_eae82658_ca81_11eb_bcb9_b4b686e58d3frow14_col10\" class=\"data row14 col10\" >0.0</td>\n",
       "                        <td id=\"T_eae82658_ca81_11eb_bcb9_b4b686e58d3frow14_col11\" class=\"data row14 col11\" >-0.0</td>\n",
       "                        <td id=\"T_eae82658_ca81_11eb_bcb9_b4b686e58d3frow14_col12\" class=\"data row14 col12\" >-0.0</td>\n",
       "                        <td id=\"T_eae82658_ca81_11eb_bcb9_b4b686e58d3frow14_col13\" class=\"data row14 col13\" >-0.0</td>\n",
       "                        <td id=\"T_eae82658_ca81_11eb_bcb9_b4b686e58d3frow14_col14\" class=\"data row14 col14\" >1.0</td>\n",
       "            </tr>\n",
       "    </tbody></table>"
      ],
      "text/plain": [
       "<pandas.io.formats.style.Styler at 0x2603a353c08>"
      ]
     },
     "execution_count": 31,
     "metadata": {},
     "output_type": "execute_result"
    }
   ],
   "source": [
    "corr = df.corr()\n",
    "corr.style.background_gradient().set_precision(1)"
   ]
  },
  {
   "cell_type": "markdown",
   "metadata": {},
   "source": [
    "### Dependencies using HeatMap "
   ]
  },
  {
   "cell_type": "code",
   "execution_count": 32,
   "metadata": {},
   "outputs": [
    {
     "data": {
      "text/plain": [
       "<AxesSubplot:>"
      ]
     },
     "execution_count": 32,
     "metadata": {},
     "output_type": "execute_result"
    },
    {
     "data": {
      "image/png": "[encoded data removed]",
      "text/plain": [
       "<Figure size 1440x720 with 2 Axes>"
      ]
     },
     "metadata": {
      "needs_background": "light"
     },
     "output_type": "display_data"
    }
   ],
   "source": [
    "corrMatt = df[[\"temp\",\"atemp\",\"casual\",\"registered\",\"humidity\",\"windspeed\",\"count\"]].corr()\n",
    "mask = np.array(corrMatt)\n",
    "mask[np.tril_indices_from(mask)] = False\n",
    "fig,ax= plt.subplots()\n",
    "fig.set_size_inches(20,10)\n",
    "sns.heatmap(corrMatt, mask=mask,vmax=.8, square=True,annot=True)"
   ]
  },
  {
   "cell_type": "markdown",
   "metadata": {},
   "source": [
    "## Linear Regression"
   ]
  },
  {
   "cell_type": "code",
   "execution_count": 33,
   "metadata": {},
   "outputs": [
    {
     "data": {
      "text/html": [
       "<div>\n",
       "<style scoped>\n",
       "    .dataframe tbody tr th:only-of-type {\n",
       "        vertical-align: middle;\n",
       "    }\n",
       "\n",
       "    .dataframe tbody tr th {\n",
       "        vertical-align: top;\n",
       "    }\n",
       "\n",
       "    .dataframe thead th {\n",
       "        text-align: right;\n",
       "    }\n",
       "</style>\n",
       "<table border=\"1\" class=\"dataframe\">\n",
       "  <thead>\n",
       "    <tr style=\"text-align: right;\">\n",
       "      <th></th>\n",
       "      <th>season</th>\n",
       "      <th>holiday</th>\n",
       "      <th>workingday</th>\n",
       "      <th>weather</th>\n",
       "      <th>temp</th>\n",
       "      <th>atemp</th>\n",
       "      <th>humidity</th>\n",
       "      <th>windspeed</th>\n",
       "      <th>count</th>\n",
       "    </tr>\n",
       "  </thead>\n",
       "  <tbody>\n",
       "    <tr>\n",
       "      <th>0</th>\n",
       "      <td>1</td>\n",
       "      <td>0</td>\n",
       "      <td>0</td>\n",
       "      <td>1</td>\n",
       "      <td>9.84</td>\n",
       "      <td>14.395</td>\n",
       "      <td>81.000000</td>\n",
       "      <td>0.0000</td>\n",
       "      <td>16</td>\n",
       "    </tr>\n",
       "    <tr>\n",
       "      <th>1</th>\n",
       "      <td>1</td>\n",
       "      <td>0</td>\n",
       "      <td>0</td>\n",
       "      <td>1</td>\n",
       "      <td>9.02</td>\n",
       "      <td>13.635</td>\n",
       "      <td>80.000000</td>\n",
       "      <td>0.0000</td>\n",
       "      <td>40</td>\n",
       "    </tr>\n",
       "    <tr>\n",
       "      <th>2</th>\n",
       "      <td>1</td>\n",
       "      <td>0</td>\n",
       "      <td>0</td>\n",
       "      <td>1</td>\n",
       "      <td>9.02</td>\n",
       "      <td>13.635</td>\n",
       "      <td>80.000000</td>\n",
       "      <td>0.0000</td>\n",
       "      <td>32</td>\n",
       "    </tr>\n",
       "    <tr>\n",
       "      <th>3</th>\n",
       "      <td>1</td>\n",
       "      <td>0</td>\n",
       "      <td>0</td>\n",
       "      <td>1</td>\n",
       "      <td>9.84</td>\n",
       "      <td>14.395</td>\n",
       "      <td>61.879504</td>\n",
       "      <td>0.0000</td>\n",
       "      <td>13</td>\n",
       "    </tr>\n",
       "    <tr>\n",
       "      <th>4</th>\n",
       "      <td>1</td>\n",
       "      <td>0</td>\n",
       "      <td>0</td>\n",
       "      <td>1</td>\n",
       "      <td>9.84</td>\n",
       "      <td>14.395</td>\n",
       "      <td>75.000000</td>\n",
       "      <td>0.0000</td>\n",
       "      <td>1</td>\n",
       "    </tr>\n",
       "    <tr>\n",
       "      <th>5</th>\n",
       "      <td>1</td>\n",
       "      <td>0</td>\n",
       "      <td>0</td>\n",
       "      <td>2</td>\n",
       "      <td>9.84</td>\n",
       "      <td>12.880</td>\n",
       "      <td>75.000000</td>\n",
       "      <td>6.0032</td>\n",
       "      <td>1</td>\n",
       "    </tr>\n",
       "    <tr>\n",
       "      <th>6</th>\n",
       "      <td>1</td>\n",
       "      <td>0</td>\n",
       "      <td>0</td>\n",
       "      <td>1</td>\n",
       "      <td>9.02</td>\n",
       "      <td>13.635</td>\n",
       "      <td>80.000000</td>\n",
       "      <td>0.0000</td>\n",
       "      <td>2</td>\n",
       "    </tr>\n",
       "    <tr>\n",
       "      <th>7</th>\n",
       "      <td>1</td>\n",
       "      <td>0</td>\n",
       "      <td>0</td>\n",
       "      <td>1</td>\n",
       "      <td>8.20</td>\n",
       "      <td>12.880</td>\n",
       "      <td>61.879504</td>\n",
       "      <td>0.0000</td>\n",
       "      <td>3</td>\n",
       "    </tr>\n",
       "    <tr>\n",
       "      <th>8</th>\n",
       "      <td>1</td>\n",
       "      <td>0</td>\n",
       "      <td>0</td>\n",
       "      <td>1</td>\n",
       "      <td>9.84</td>\n",
       "      <td>14.395</td>\n",
       "      <td>75.000000</td>\n",
       "      <td>0.0000</td>\n",
       "      <td>8</td>\n",
       "    </tr>\n",
       "    <tr>\n",
       "      <th>9</th>\n",
       "      <td>1</td>\n",
       "      <td>0</td>\n",
       "      <td>0</td>\n",
       "      <td>1</td>\n",
       "      <td>13.12</td>\n",
       "      <td>17.425</td>\n",
       "      <td>76.000000</td>\n",
       "      <td>0.0000</td>\n",
       "      <td>14</td>\n",
       "    </tr>\n",
       "  </tbody>\n",
       "</table>\n",
       "</div>"
      ],
      "text/plain": [
       "   season  holiday  workingday  weather   temp   atemp   humidity  windspeed  \\\n",
       "0       1        0           0        1   9.84  14.395  81.000000     0.0000   \n",
       "1       1        0           0        1   9.02  13.635  80.000000     0.0000   \n",
       "2       1        0           0        1   9.02  13.635  80.000000     0.0000   \n",
       "3       1        0           0        1   9.84  14.395  61.879504     0.0000   \n",
       "4       1        0           0        1   9.84  14.395  75.000000     0.0000   \n",
       "5       1        0           0        2   9.84  12.880  75.000000     6.0032   \n",
       "6       1        0           0        1   9.02  13.635  80.000000     0.0000   \n",
       "7       1        0           0        1   8.20  12.880  61.879504     0.0000   \n",
       "8       1        0           0        1   9.84  14.395  75.000000     0.0000   \n",
       "9       1        0           0        1  13.12  17.425  76.000000     0.0000   \n",
       "\n",
       "   count  \n",
       "0     16  \n",
       "1     40  \n",
       "2     32  \n",
       "3     13  \n",
       "4      1  \n",
       "5      1  \n",
       "6      2  \n",
       "7      3  \n",
       "8      8  \n",
       "9     14  "
      ]
     },
     "execution_count": 33,
     "metadata": {},
     "output_type": "execute_result"
    }
   ],
   "source": [
    "cdf = df[[\"season\",\"holiday\",\"workingday\",\"weather\",\"temp\",\"atemp\",\"humidity\",\"windspeed\",\"count\"]]\n",
    "cdf.head(10)"
   ]
  },
  {
   "cell_type": "code",
   "execution_count": 34,
   "metadata": {
    "scrolled": true
   },
   "outputs": [
    {
     "data": {
      "image/png": "[encoded data removed]",
      "text/plain": [
       "<Figure size 936x936 with 9 Axes>"
      ]
     },
     "metadata": {
      "needs_background": "light"
     },
     "output_type": "display_data"
    }
   ],
   "source": [
    "viz = cdf[[\"season\",\"holiday\",\"workingday\",\"weather\",\"temp\",\"atemp\",\"humidity\",\"windspeed\",\"count\"]]\n",
    "viz.hist(bins=10,figsize=(13,13))\n",
    "plt.show()"
   ]
  },
  {
   "cell_type": "code",
   "execution_count": 82,
   "metadata": {},
   "outputs": [],
   "source": [
    "msk = np.random.rand(len(df)) < 0.8\n",
    "train = cdf[msk]\n",
    "test = cdf[~msk]"
   ]
  },
  {
   "cell_type": "code",
   "execution_count": 83,
   "metadata": {},
   "outputs": [
    {
     "name": "stdout",
     "output_type": "stream",
     "text": [
      "Coefficients:  [[8.38528347]]\n",
      "Intercept:  [-6.82556757]\n"
     ]
    }
   ],
   "source": [
    "from sklearn import linear_model\n",
    "regr = linear_model.LinearRegression()\n",
    "train_x = np.asanyarray(train[['atemp']])\n",
    "train_y = np.asanyarray(train[['count']])\n",
    "regr.fit (train_x, train_y)\n",
    "# The coefficients\n",
    "print ('Coefficients: ', regr.coef_)\n",
    "print ('Intercept: ',regr.intercept_)"
   ]
  },
  {
   "cell_type": "code",
   "execution_count": null,
   "metadata": {},
   "outputs": [],
   "source": []
  },
  {
   "cell_type": "code",
   "execution_count": null,
   "metadata": {},
   "outputs": [],
   "source": []
  },
  {
   "cell_type": "code",
   "execution_count": 107,
   "metadata": {},
   "outputs": [],
   "source": [
    "from sklearn.model_selection import train_test_split\n",
    "x = df[[\"season\",\"holiday\",\"workingday\",\"weather\",\"temp\",\"atemp\",\"humidity\",\"windspeed\"]]\n",
    "y = df[[\"count\"]]\n",
    "x_train,x_test,y_train,y_test = train_test_split(x,y,test_size=0.2,random_state=1)"
   ]
  },
  {
   "cell_type": "code",
   "execution_count": 108,
   "metadata": {},
   "outputs": [
    {
     "data": {
      "text/plain": [
       "LinearRegression()"
      ]
     },
     "execution_count": 108,
     "metadata": {},
     "output_type": "execute_result"
    }
   ],
   "source": [
    "model = linear_model.LinearRegression()\n",
    "model.fit(x_train,y_train)"
   ]
  },
  {
   "cell_type": "code",
   "execution_count": 109,
   "metadata": {},
   "outputs": [],
   "source": [
    "LR_preds = model.predict(x_test)  \n",
    "np.exp(LR_preds).mean() \n",
    "prediction = pd.DataFrame(LR_preds, columns=['predictions']).to_csv('prediction.csv')"
   ]
  },
  {
   "cell_type": "code",
   "execution_count": 116,
   "metadata": {},
   "outputs": [
    {
     "data": {
      "text/plain": [
       "25499.778823895937"
      ]
     },
     "execution_count": 116,
     "metadata": {},
     "output_type": "execute_result"
    }
   ],
   "source": [
    "from sklearn.metrics import mean_squared_error\n",
    "mean_squared_error(y_test, LR_preds)"
   ]
  },
  {
   "cell_type": "code",
   "execution_count": null,
   "metadata": {},
   "outputs": [],
   "source": []
  },
  {
   "cell_type": "code",
   "execution_count": null,
   "metadata": {},
   "outputs": [],
   "source": []
  },
  {
   "cell_type": "code",
   "execution_count": 94,
   "metadata": {},
   "outputs": [
    {
     "name": "stdout",
     "output_type": "stream",
     "text": [
      "Coefficients:  [[8.22831487]]\n",
      "Intercept:  [-4.37805965]\n"
     ]
    }
   ],
   "source": [
    "from sklearn import linear_model\n",
    "regr = linear_model.LinearRegression()\n",
    "x = np.asanyarray(x_train[['atemp']])\n",
    "y = np.asanyarray(y_train[['count']])\n",
    "regr.fit (x, y)\n",
    "# The coefficients\n",
    "print ('Coefficients: ', regr.coef_)\n",
    "print ('Intercept: ',regr.intercept_)"
   ]
  },
  {
   "cell_type": "markdown",
   "metadata": {},
   "source": [
    "## Random Forest "
   ]
  },
  {
   "cell_type": "code",
   "execution_count": 101,
   "metadata": {},
   "outputs": [
    {
     "name": "stderr",
     "output_type": "stream",
     "text": [
      "C:\\Users\\Tauseef Ahmed\\Anaconda3\\lib\\site-packages\\ipykernel_launcher.py:3: DataConversionWarning: A column-vector y was passed when a 1d array was expected. Please change the shape of y to (n_samples,), for example using ravel().\n",
      "  This is separate from the ipykernel package so we can avoid doing imports until\n"
     ]
    }
   ],
   "source": [
    "from sklearn.ensemble import RandomForestRegressor\n",
    "rf = RandomForestRegressor()\n",
    "rf.fit(x_train,y_train) \n",
    "RF_preds = model.predict(x_test)  \n",
    "np.exp(RF_preds).mean() \n",
    "prediction2 = pd.DataFrame(LR_preds, columns=['rf_predictions']).to_csv('rf_prediction.csv')"
   ]
  },
  {
   "cell_type": "code",
   "execution_count": 117,
   "metadata": {},
   "outputs": [
    {
     "data": {
      "text/plain": [
       "25499.778823895937"
      ]
     },
     "execution_count": 117,
     "metadata": {},
     "output_type": "execute_result"
    }
   ],
   "source": [
    "from sklearn.metrics import mean_squared_error\n",
    "mean_squared_error(y_test, RF_preds)"
   ]
  },
  {
   "cell_type": "code",
   "execution_count": null,
   "metadata": {},
   "outputs": [],
   "source": []
  },
  {
   "cell_type": "code",
   "execution_count": null,
   "metadata": {},
   "outputs": [],
   "source": []
  },
  {
   "cell_type": "code",
   "execution_count": null,
   "metadata": {},
   "outputs": [],
   "source": []
  },
  {
   "cell_type": "code",
   "execution_count": null,
   "metadata": {},
   "outputs": [],
   "source": []
  },
  {
   "cell_type": "markdown",
   "metadata": {},
   "source": [
    "## Multiple Regression "
   ]
  },
  {
   "cell_type": "code",
   "execution_count": 45,
   "metadata": {},
   "outputs": [
    {
     "name": "stdout",
     "output_type": "stream",
     "text": [
      "Coefficients:  [[ 21.85396719 -13.56917359  -2.25088176   3.7533428    2.02744905\n",
      "    5.49097268  -3.00798459   0.72765705]]\n"
     ]
    }
   ],
   "source": [
    "from sklearn import linear_model\n",
    "regr = linear_model.LinearRegression()\n",
    "x = np.asanyarray(train[[\"season\",\"holiday\",\"workingday\",\"weather\",\"temp\",\"atemp\",\"humidity\",\"windspeed\"]])\n",
    "y = np.asanyarray(train[[\"count\"]])\n",
    "regr.fit (x, y)\n",
    "# The coefficients\n",
    "print ('Coefficients: ', regr.coef_)"
   ]
  },
  {
   "cell_type": "code",
   "execution_count": 46,
   "metadata": {},
   "outputs": [
    {
     "name": "stdout",
     "output_type": "stream",
     "text": [
      "Residual sum of squares: 24964.49\n",
      "Variance score: 0.27\n"
     ]
    }
   ],
   "source": [
    "y_hat= regr.predict(test[[\"season\",\"holiday\",\"workingday\",\"weather\",\"temp\",\"atemp\",\"humidity\",\"windspeed\"]])\n",
    "x = np.asanyarray(test[[\"season\",\"holiday\",\"workingday\",\"weather\",\"temp\",\"atemp\",\"humidity\",\"windspeed\"]])\n",
    "y = np.asanyarray(test[[\"count\"]])\n",
    "print(\"Residual sum of squares: %.2f\"\n",
    "      % np.mean((y_hat - y) ** 2))\n",
    "\n",
    "# Explained variance score: 1 is perfect prediction\n",
    "print('Variance score: %.2f' % regr.score(x, y))"
   ]
  },
  {
   "cell_type": "code",
   "execution_count": null,
   "metadata": {},
   "outputs": [],
   "source": [
    "from sklearn import linear_model\n",
    "regr = linear_model.LinearRegression()\n",
    "x = np.asanyarray(train[[\"season\",\"holiday\",\"workingday\",\"weather\",\"temp\",\"atemp\",\"humidity\",\"windspeed\"]])\n",
    "y = np.asanyarray(train[[\"count\"]])\n",
    "regr.fit (x, y)\n",
    "# The coefficients\n",
    "print ('Coefficients: ', regr.coef_)"
   ]
  },
  {
   "cell_type": "code",
   "execution_count": null,
   "metadata": {},
   "outputs": [],
   "source": [
    "LR_preds = model.predict(dataTest)  \n",
    "np.exp(LR_preds).mean()"
   ]
  },
  {
   "cell_type": "code",
   "execution_count": null,
   "metadata": {},
   "outputs": [],
   "source": []
  },
  {
   "cell_type": "code",
   "execution_count": null,
   "metadata": {},
   "outputs": [],
   "source": []
  },
  {
   "cell_type": "code",
   "execution_count": null,
   "metadata": {},
   "outputs": [],
   "source": []
  },
  {
   "cell_type": "code",
   "execution_count": null,
   "metadata": {},
   "outputs": [],
   "source": []
  },
  {
   "cell_type": "code",
   "execution_count": null,
   "metadata": {},
   "outputs": [],
   "source": []
  },
  {
   "cell_type": "code",
   "execution_count": 47,
   "metadata": {},
   "outputs": [
    {
     "data": {
      "text/html": [
       "<div>\n",
       "<style scoped>\n",
       "    .dataframe tbody tr th:only-of-type {\n",
       "        vertical-align: middle;\n",
       "    }\n",
       "\n",
       "    .dataframe tbody tr th {\n",
       "        vertical-align: top;\n",
       "    }\n",
       "\n",
       "    .dataframe thead th {\n",
       "        text-align: right;\n",
       "    }\n",
       "</style>\n",
       "<table border=\"1\" class=\"dataframe\">\n",
       "  <thead>\n",
       "    <tr style=\"text-align: right;\">\n",
       "      <th></th>\n",
       "      <th>weather</th>\n",
       "      <th>temp</th>\n",
       "      <th>atemp</th>\n",
       "      <th>humidity</th>\n",
       "      <th>windspeed</th>\n",
       "      <th>count</th>\n",
       "    </tr>\n",
       "  </thead>\n",
       "  <tbody>\n",
       "    <tr>\n",
       "      <th>0</th>\n",
       "      <td>1</td>\n",
       "      <td>9.84</td>\n",
       "      <td>14.395</td>\n",
       "      <td>81.000000</td>\n",
       "      <td>0.0000</td>\n",
       "      <td>16</td>\n",
       "    </tr>\n",
       "    <tr>\n",
       "      <th>1</th>\n",
       "      <td>1</td>\n",
       "      <td>9.02</td>\n",
       "      <td>13.635</td>\n",
       "      <td>80.000000</td>\n",
       "      <td>0.0000</td>\n",
       "      <td>40</td>\n",
       "    </tr>\n",
       "    <tr>\n",
       "      <th>2</th>\n",
       "      <td>1</td>\n",
       "      <td>9.02</td>\n",
       "      <td>13.635</td>\n",
       "      <td>80.000000</td>\n",
       "      <td>0.0000</td>\n",
       "      <td>32</td>\n",
       "    </tr>\n",
       "    <tr>\n",
       "      <th>3</th>\n",
       "      <td>1</td>\n",
       "      <td>9.84</td>\n",
       "      <td>14.395</td>\n",
       "      <td>61.879504</td>\n",
       "      <td>0.0000</td>\n",
       "      <td>13</td>\n",
       "    </tr>\n",
       "    <tr>\n",
       "      <th>4</th>\n",
       "      <td>1</td>\n",
       "      <td>9.84</td>\n",
       "      <td>14.395</td>\n",
       "      <td>75.000000</td>\n",
       "      <td>0.0000</td>\n",
       "      <td>1</td>\n",
       "    </tr>\n",
       "    <tr>\n",
       "      <th>5</th>\n",
       "      <td>2</td>\n",
       "      <td>9.84</td>\n",
       "      <td>12.880</td>\n",
       "      <td>75.000000</td>\n",
       "      <td>6.0032</td>\n",
       "      <td>1</td>\n",
       "    </tr>\n",
       "    <tr>\n",
       "      <th>6</th>\n",
       "      <td>1</td>\n",
       "      <td>9.02</td>\n",
       "      <td>13.635</td>\n",
       "      <td>80.000000</td>\n",
       "      <td>0.0000</td>\n",
       "      <td>2</td>\n",
       "    </tr>\n",
       "    <tr>\n",
       "      <th>7</th>\n",
       "      <td>1</td>\n",
       "      <td>8.20</td>\n",
       "      <td>12.880</td>\n",
       "      <td>61.879504</td>\n",
       "      <td>0.0000</td>\n",
       "      <td>3</td>\n",
       "    </tr>\n",
       "    <tr>\n",
       "      <th>8</th>\n",
       "      <td>1</td>\n",
       "      <td>9.84</td>\n",
       "      <td>14.395</td>\n",
       "      <td>75.000000</td>\n",
       "      <td>0.0000</td>\n",
       "      <td>8</td>\n",
       "    </tr>\n",
       "    <tr>\n",
       "      <th>9</th>\n",
       "      <td>1</td>\n",
       "      <td>13.12</td>\n",
       "      <td>17.425</td>\n",
       "      <td>76.000000</td>\n",
       "      <td>0.0000</td>\n",
       "      <td>14</td>\n",
       "    </tr>\n",
       "  </tbody>\n",
       "</table>\n",
       "</div>"
      ],
      "text/plain": [
       "   weather   temp   atemp   humidity  windspeed  count\n",
       "0        1   9.84  14.395  81.000000     0.0000     16\n",
       "1        1   9.02  13.635  80.000000     0.0000     40\n",
       "2        1   9.02  13.635  80.000000     0.0000     32\n",
       "3        1   9.84  14.395  61.879504     0.0000     13\n",
       "4        1   9.84  14.395  75.000000     0.0000      1\n",
       "5        2   9.84  12.880  75.000000     6.0032      1\n",
       "6        1   9.02  13.635  80.000000     0.0000      2\n",
       "7        1   8.20  12.880  61.879504     0.0000      3\n",
       "8        1   9.84  14.395  75.000000     0.0000      8\n",
       "9        1  13.12  17.425  76.000000     0.0000     14"
      ]
     },
     "execution_count": 47,
     "metadata": {},
     "output_type": "execute_result"
    }
   ],
   "source": [
    "cdf = df[[\"weather\",\"temp\",\"atemp\",\"humidity\",\"windspeed\",\"count\"]]\n",
    "cdf.head(10)"
   ]
  },
  {
   "cell_type": "code",
   "execution_count": 48,
   "metadata": {},
   "outputs": [
    {
     "data": {
      "image/png": "[encoded data removed]",
      "text/plain": [
       "<Figure size 936x936 with 6 Axes>"
      ]
     },
     "metadata": {
      "needs_background": "light"
     },
     "output_type": "display_data"
    }
   ],
   "source": [
    "viz = cdf[[\"weather\",\"temp\",\"atemp\",\"humidity\",\"windspeed\",\"count\"]]\n",
    "viz.hist(bins=10,figsize=(13,13))\n",
    "plt.show()"
   ]
  },
  {
   "cell_type": "code",
   "execution_count": 49,
   "metadata": {},
   "outputs": [],
   "source": [
    "msk = np.random.rand(len(df)) < 0.8\n",
    "train = cdf[msk]\n",
    "test = cdf[~msk]"
   ]
  },
  {
   "cell_type": "code",
   "execution_count": 50,
   "metadata": {},
   "outputs": [
    {
     "data": {
      "text/html": [
       "<div>\n",
       "<style scoped>\n",
       "    .dataframe tbody tr th:only-of-type {\n",
       "        vertical-align: middle;\n",
       "    }\n",
       "\n",
       "    .dataframe tbody tr th {\n",
       "        vertical-align: top;\n",
       "    }\n",
       "\n",
       "    .dataframe thead th {\n",
       "        text-align: right;\n",
       "    }\n",
       "</style>\n",
       "<table border=\"1\" class=\"dataframe\">\n",
       "  <thead>\n",
       "    <tr style=\"text-align: right;\">\n",
       "      <th></th>\n",
       "      <th>weather</th>\n",
       "      <th>temp</th>\n",
       "      <th>atemp</th>\n",
       "      <th>humidity</th>\n",
       "      <th>windspeed</th>\n",
       "      <th>count</th>\n",
       "    </tr>\n",
       "  </thead>\n",
       "  <tbody>\n",
       "    <tr>\n",
       "      <th>1</th>\n",
       "      <td>1</td>\n",
       "      <td>9.02</td>\n",
       "      <td>13.635</td>\n",
       "      <td>80.000000</td>\n",
       "      <td>0.0000</td>\n",
       "      <td>40</td>\n",
       "    </tr>\n",
       "    <tr>\n",
       "      <th>2</th>\n",
       "      <td>1</td>\n",
       "      <td>9.02</td>\n",
       "      <td>13.635</td>\n",
       "      <td>80.000000</td>\n",
       "      <td>0.0000</td>\n",
       "      <td>32</td>\n",
       "    </tr>\n",
       "    <tr>\n",
       "      <th>3</th>\n",
       "      <td>1</td>\n",
       "      <td>9.84</td>\n",
       "      <td>14.395</td>\n",
       "      <td>61.879504</td>\n",
       "      <td>0.0000</td>\n",
       "      <td>13</td>\n",
       "    </tr>\n",
       "    <tr>\n",
       "      <th>4</th>\n",
       "      <td>1</td>\n",
       "      <td>9.84</td>\n",
       "      <td>14.395</td>\n",
       "      <td>75.000000</td>\n",
       "      <td>0.0000</td>\n",
       "      <td>1</td>\n",
       "    </tr>\n",
       "    <tr>\n",
       "      <th>5</th>\n",
       "      <td>2</td>\n",
       "      <td>9.84</td>\n",
       "      <td>12.880</td>\n",
       "      <td>75.000000</td>\n",
       "      <td>6.0032</td>\n",
       "      <td>1</td>\n",
       "    </tr>\n",
       "    <tr>\n",
       "      <th>...</th>\n",
       "      <td>...</td>\n",
       "      <td>...</td>\n",
       "      <td>...</td>\n",
       "      <td>...</td>\n",
       "      <td>...</td>\n",
       "      <td>...</td>\n",
       "    </tr>\n",
       "    <tr>\n",
       "      <th>10880</th>\n",
       "      <td>1</td>\n",
       "      <td>15.58</td>\n",
       "      <td>19.695</td>\n",
       "      <td>50.000000</td>\n",
       "      <td>23.9994</td>\n",
       "      <td>569</td>\n",
       "    </tr>\n",
       "    <tr>\n",
       "      <th>10881</th>\n",
       "      <td>1</td>\n",
       "      <td>15.58</td>\n",
       "      <td>19.695</td>\n",
       "      <td>50.000000</td>\n",
       "      <td>26.0027</td>\n",
       "      <td>336</td>\n",
       "    </tr>\n",
       "    <tr>\n",
       "      <th>10882</th>\n",
       "      <td>1</td>\n",
       "      <td>14.76</td>\n",
       "      <td>17.425</td>\n",
       "      <td>57.000000</td>\n",
       "      <td>15.0013</td>\n",
       "      <td>241</td>\n",
       "    </tr>\n",
       "    <tr>\n",
       "      <th>10883</th>\n",
       "      <td>1</td>\n",
       "      <td>13.94</td>\n",
       "      <td>15.910</td>\n",
       "      <td>61.000000</td>\n",
       "      <td>15.0013</td>\n",
       "      <td>168</td>\n",
       "    </tr>\n",
       "    <tr>\n",
       "      <th>10885</th>\n",
       "      <td>1</td>\n",
       "      <td>13.12</td>\n",
       "      <td>16.665</td>\n",
       "      <td>66.000000</td>\n",
       "      <td>8.9981</td>\n",
       "      <td>88</td>\n",
       "    </tr>\n",
       "  </tbody>\n",
       "</table>\n",
       "<p>8727 rows × 6 columns</p>\n",
       "</div>"
      ],
      "text/plain": [
       "       weather   temp   atemp   humidity  windspeed  count\n",
       "1            1   9.02  13.635  80.000000     0.0000     40\n",
       "2            1   9.02  13.635  80.000000     0.0000     32\n",
       "3            1   9.84  14.395  61.879504     0.0000     13\n",
       "4            1   9.84  14.395  75.000000     0.0000      1\n",
       "5            2   9.84  12.880  75.000000     6.0032      1\n",
       "...        ...    ...     ...        ...        ...    ...\n",
       "10880        1  15.58  19.695  50.000000    23.9994    569\n",
       "10881        1  15.58  19.695  50.000000    26.0027    336\n",
       "10882        1  14.76  17.425  57.000000    15.0013    241\n",
       "10883        1  13.94  15.910  61.000000    15.0013    168\n",
       "10885        1  13.12  16.665  66.000000     8.9981     88\n",
       "\n",
       "[8727 rows x 6 columns]"
      ]
     },
     "execution_count": 50,
     "metadata": {},
     "output_type": "execute_result"
    }
   ],
   "source": [
    "train"
   ]
  },
  {
   "cell_type": "code",
   "execution_count": 51,
   "metadata": {},
   "outputs": [
    {
     "name": "stdout",
     "output_type": "stream",
     "text": [
      "Coefficients:  [[-38.32992805]]\n",
      "Intercept:  [246.09425348]\n"
     ]
    }
   ],
   "source": [
    "from sklearn import linear_model\n",
    "regr = linear_model.LinearRegression()\n",
    "train_x = np.asanyarray(train[['weather']])\n",
    "train_y = np.asanyarray(train[['count']])\n",
    "regr.fit (train_x, train_y)\n",
    "# The coefficients\n",
    "print ('Coefficients: ', regr.coef_)\n",
    "print ('Intercept: ',regr.intercept_)"
   ]
  },
  {
   "cell_type": "code",
   "execution_count": 52,
   "metadata": {},
   "outputs": [
    {
     "name": "stdout",
     "output_type": "stream",
     "text": [
      "Coefficients:  [[9.16044338]]\n",
      "Intercept:  [6.61567312]\n"
     ]
    }
   ],
   "source": [
    "from sklearn import linear_model\n",
    "regr = linear_model.LinearRegression()\n",
    "train_x = np.asanyarray(train[['temp']])\n",
    "train_y = np.asanyarray(train[['count']])\n",
    "regr.fit (train_x, train_y)\n",
    "# The coefficients\n",
    "print ('Coefficients: ', regr.coef_)\n",
    "print ('Intercept: ',regr.intercept_)"
   ]
  },
  {
   "cell_type": "code",
   "execution_count": 53,
   "metadata": {},
   "outputs": [
    {
     "name": "stdout",
     "output_type": "stream",
     "text": [
      "Coefficients:  [[8.32051598]]\n",
      "Intercept:  [-4.84764495]\n"
     ]
    }
   ],
   "source": [
    "from sklearn import linear_model\n",
    "regr = linear_model.LinearRegression()\n",
    "train_x = np.asanyarray(train[['atemp']])\n",
    "train_y = np.asanyarray(train[['count']])\n",
    "regr.fit (train_x, train_y)\n",
    "# The coefficients\n",
    "print ('Coefficients: ', regr.coef_)\n",
    "print ('Intercept: ',regr.intercept_)"
   ]
  },
  {
   "cell_type": "code",
   "execution_count": 54,
   "metadata": {},
   "outputs": [
    {
     "name": "stdout",
     "output_type": "stream",
     "text": [
      "Coefficients:  [[-3.05210019]]\n",
      "Intercept:  [380.47635773]\n"
     ]
    }
   ],
   "source": [
    "from sklearn import linear_model\n",
    "regr = linear_model.LinearRegression()\n",
    "train_x = np.asanyarray(train[['humidity']])\n",
    "train_y = np.asanyarray(train[['count']])\n",
    "regr.fit (train_x, train_y)\n",
    "# The coefficients\n",
    "print ('Coefficients: ', regr.coef_)\n",
    "print ('Intercept: ',regr.intercept_)"
   ]
  },
  {
   "cell_type": "code",
   "execution_count": 55,
   "metadata": {},
   "outputs": [
    {
     "name": "stdout",
     "output_type": "stream",
     "text": [
      "Coefficients:  [[2.37818268]]\n",
      "Intercept:  [161.3583984]\n"
     ]
    }
   ],
   "source": [
    "from sklearn import linear_model\n",
    "regr = linear_model.LinearRegression()\n",
    "train_x = np.asanyarray(train[['windspeed']])\n",
    "train_y = np.asanyarray(train[['count']])\n",
    "regr.fit (train_x, train_y)\n",
    "# The coefficients\n",
    "print ('Coefficients: ', regr.coef_)\n",
    "print ('Intercept: ',regr.intercept_)"
   ]
  },
  {
   "cell_type": "code",
   "execution_count": null,
   "metadata": {},
   "outputs": [],
   "source": []
  },
  {
   "cell_type": "code",
   "execution_count": null,
   "metadata": {},
   "outputs": [],
   "source": []
  },
  {
   "cell_type": "code",
   "execution_count": null,
   "metadata": {},
   "outputs": [],
   "source": [
    "df_max_scaled = cdf.copy()\n",
    "  \n",
    "# apply normalization techniques\n",
    "for column in df_max_scaled.columns:\n",
    "    df_max_scaled[column] = df_max_scaled[column]  / df_max_scaled[column].abs().max()\n",
    "df_max_scaled.plot(kind = 'bar')"
   ]
  },
  {
   "cell_type": "code",
   "execution_count": null,
   "metadata": {},
   "outputs": [],
   "source": [
    "cdf=df_max_scaled.copy()"
   ]
  },
  {
   "cell_type": "code",
   "execution_count": null,
   "metadata": {},
   "outputs": [],
   "source": [
    "viz = cdf[[\"weather\",\"temp\",\"atemp\",\"humidity\",\"windspeed\",\"count\"]]\n",
    "viz.hist(bins=10,figsize=(13,13))\n",
    "plt.show()"
   ]
  },
  {
   "cell_type": "code",
   "execution_count": null,
   "metadata": {},
   "outputs": [],
   "source": [
    "msk = np.random.rand(len(df)) < 0.8\n",
    "train = cdf[msk]\n",
    "test = cdf[~msk]"
   ]
  },
  {
   "cell_type": "code",
   "execution_count": null,
   "metadata": {},
   "outputs": [],
   "source": [
    "train"
   ]
  },
  {
   "cell_type": "code",
   "execution_count": null,
   "metadata": {},
   "outputs": [],
   "source": [
    "from sklearn import linear_model\n",
    "regr = linear_model.LinearRegression()\n",
    "train_x = np.asanyarray(train[['weather']])\n",
    "train_y = np.asanyarray(train[['count']])\n",
    "regr.fit (train_x, train_y)\n",
    "# The coefficients\n",
    "print ('Coefficients: ', regr.coef_)\n",
    "print ('Intercept: ',regr.intercept_)"
   ]
  },
  {
   "cell_type": "code",
   "execution_count": null,
   "metadata": {},
   "outputs": [],
   "source": [
    "from sklearn import linear_model\n",
    "regr = linear_model.LinearRegression()\n",
    "train_x = np.asanyarray(train[['temp']])\n",
    "train_y = np.asanyarray(train[['count']])\n",
    "regr.fit (train_x, train_y)\n",
    "# The coefficients\n",
    "print ('Coefficients: ', regr.coef_)\n",
    "print ('Intercept: ',regr.intercept_)"
   ]
  },
  {
   "cell_type": "code",
   "execution_count": null,
   "metadata": {},
   "outputs": [],
   "source": [
    "from sklearn import linear_model\n",
    "regr = linear_model.LinearRegression()\n",
    "train_x = np.asanyarray(train[['atemp']])\n",
    "train_y = np.asanyarray(train[['count']])\n",
    "regr.fit (train_x, train_y)\n",
    "# The coefficients\n",
    "print ('Coefficients: ', regr.coef_)\n",
    "print ('Intercept: ',regr.intercept_)"
   ]
  },
  {
   "cell_type": "code",
   "execution_count": null,
   "metadata": {},
   "outputs": [],
   "source": []
  }
 ],
 "metadata": {
  "kernelspec": {
   "display_name": "Python 3",
   "language": "python",
   "name": "python3"
  },
  "language_info": {
   "codemirror_mode": {
    "name": "ipython",
    "version": 3
   },
   "file_extension": ".py",
   "mimetype": "text/x-python",
   "name": "python",
   "nbconvert_exporter": "python",
   "pygments_lexer": "ipython3",
   "version": "3.7.4"
  }
 },
 "nbformat": 4,
 "nbformat_minor": 2
}
